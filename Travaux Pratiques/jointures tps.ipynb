{
 "cells": [
  {
   "cell_type": "code",
   "execution_count": null,
   "metadata": {},
   "outputs": [],
   "source": [
    "import pandas as pd\n",
    "# soit tables client\n",
    "\n",
    "data_clients = {'ID Client': [101, 102, 103, 104, 105],\n",
    "                'Nom': ['Alice', 'Bob', 'Charlie', 'David', 'Eve']}\n",
    "\n",
    "clients = pd.DataFrame(data_clients)\n",
    "\n",
    "# table client\n",
    "\n",
    "data_commandes = {'Numéro de Commande': [1, 2, 3, 4, 5],\n",
    "                   'Produit': ['Pommes', 'Bananes', 'Oranges', 'Pommes', 'Poires'],\n",
    "                   'Quantité': [10, 5, 8, 3, 2]}\n",
    "\n",
    "commandes = pd.DataFrame(data_commandes)\n",
    "\n",
    "# Effectuez une jointure interne pour associer les commandes aux clients en utilisant l'ID Client comme clé.\n"
   ]
  },
  {
   "cell_type": "code",
   "execution_count": null,
   "metadata": {},
   "outputs": [],
   "source": [
    "# ventes\n",
    "\n",
    "data_ventes = {'ID Vente': [1, 2, 3, 4, 5],\n",
    "               'Produit': ['Pommes', 'Bananes', 'Oranges', 'Pommes', 'Poires'],\n",
    "               'Quantité': [20, 15, 18, 10, 5]}\n",
    "\n",
    "ventes = pd.DataFrame(data_ventes)\n",
    "\n",
    "# Produit\n",
    "\n",
    "data_produits = {'Produit': ['Pommes', 'Bananes', 'Oranges', 'Fraises', 'Poires'],\n",
    "                 'Prix Unitaire': [2, 1.5, 3, 4, 2.5]}\n",
    "\n",
    "produits = pd.DataFrame(data_produits)\n",
    "\n",
    "# Effectuez une jointure externe pour obtenir le détail complet des ventes (quantité et produit) avec les prix unitaires des produits.\n"
   ]
  },
  {
   "cell_type": "code",
   "execution_count": null,
   "metadata": {},
   "outputs": [],
   "source": [
    "# client\n",
    "data_clients = {'ID Client': [101, 102, 103, 104, 105],\n",
    "                'Nom': ['Alice', 'Bob', 'Charlie', 'David', 'Eve'],\n",
    "                'Pays': ['France', 'USA', 'Allemagne', 'France', 'Canada']}\n",
    "\n",
    "clients = pd.DataFrame(data_clients)\n",
    "\n",
    "# achat\n",
    "\n",
    "data_achats = {'ID Achat': [1, 2, 3, 4, 5],\n",
    "               'ID Client': [101, 104, 102, 103, 105],\n",
    "               'Produit': ['Pommes', 'Oranges', 'Bananes', 'Pommes', 'Poires']}\n",
    "\n",
    "achats = pd.DataFrame(data_achats)\n",
    "\n",
    "# Effectuez une jointure à gauche pour obtenir la liste des clients avec leurs achats. Les clients qui n'ont pas fait d'achats doivent également être inclus dans les résultats."
   ]
  },
  {
   "cell_type": "code",
   "execution_count": null,
   "metadata": {},
   "outputs": [],
   "source": [
    "# produit\n",
    "data_produits = {'Produit': ['Pommes', 'Bananes', 'Oranges', 'Fraises', 'Poires'],\n",
    "                 'Prix Unitaire': [2, 1.5, 3, 4, 2.5]}\n",
    "\n",
    "produits = pd.DataFrame(data_produits)\n",
    "# ventes\n",
    "data_ventes = {'ID Vente': [1, 2, 3, 4, 5],\n",
    "               'Produit': ['Pommes', 'Bananes', 'Oranges', 'Pommes', 'Poires'],\n",
    "               'Quantité': [20, 15, 18, 10, 5]}\n",
    "\n",
    "ventes = pd.DataFrame(data_ventes)\n",
    "\n",
    "# Effectuez une jointure à droite pour obtenir la liste des produits vendus avec leurs quantités, en incluant également les produits qui n'ont pas été vendus.\n",
    "\n",
    "\n"
   ]
  },
  {
   "cell_type": "code",
   "execution_count": null,
   "metadata": {},
   "outputs": [],
   "source": [
    "# commande\n",
    "data_commandes = {'Numéro de Commande': [1, 2, 3, 4, 5],\n",
    "                   'Produit': ['Pommes', 'Bananes', 'Oranges', 'Pommes', 'Poires'],\n",
    "                   'Quantité': [10, 5, 8, 3, 2]}\n",
    "\n",
    "commandes = pd.DataFrame(data_commandes)\n",
    "# client\n",
    "data_clients = {'ID Client': [101, 102, 103, 104, 105],\n",
    "                'Nom': ['Alice', 'Bob', 'Charlie', 'David', 'Eve']}\n",
    "\n",
    "clients = pd.DataFrame(data_clients)\n",
    "\n",
    "# Effectuez une jointure semi-externe pour obtenir les commandes passées par les clients existants.\n"
   ]
  },
  {
   "cell_type": "code",
   "execution_count": null,
   "metadata": {},
   "outputs": [],
   "source": [
    "# clients\n",
    "data_clients = {'ID Client': [101, 102, 103, 104, 105],\n",
    "                'Nom': ['Alice', 'Bob', 'Charlie', 'David', 'Eve'],\n",
    "                'Pays': ['France', 'USA', 'Allemagne', 'France', 'Canada']}\n",
    "\n",
    "clients = pd.DataFrame(data_clients)\n",
    "#  achats\n",
    "data_achats = {'ID Achat': [1, 2, 3, 4, 5],\n",
    "               'ID Client': [101, 104, 102, 103, 105],\n",
    "               'Produit': ['Pommes', 'Oranges', 'Bananes', 'Pommes', 'Poires']}\n",
    "\n",
    "achats = pd.DataFrame(data_achats)\n",
    "\n",
    "# Effectuez une jointure anti-interne pour obtenir la liste des clients qui n'ont pas fait d'achats.\n",
    "\n"
   ]
  },
  {
   "cell_type": "code",
   "execution_count": null,
   "metadata": {},
   "outputs": [],
   "source": [
    "# ventes\n",
    "data_ventes = {'ID Vente': [1, 2, 3, 4, 5],\n",
    "               'Produit': ['Pommes', 'Bananes', 'Oranges', 'Pommes', 'Poires'],\n",
    "               'Quantité': [20, 15, 18, 10, 5]}\n",
    "\n",
    "ventes = pd.DataFrame(data_ventes)\n",
    "# produit\n",
    "data_produits = {'Produit': ['Pommes', 'Bananes', 'Oranges', 'Fraises', 'Poires'],\n",
    "                 'Prix Unitaire': [2, 1.5, 3, 4, 2.5]}\n",
    "\n",
    "produits = pd.DataFrame(data_produits)\n",
    "# Effectuez une jointure cartésienne pour obtenir toutes les combinaisons possibles entre les ventes et les produits."
   ]
  },
  {
   "cell_type": "code",
   "execution_count": null,
   "metadata": {},
   "outputs": [],
   "source": [
    "# achat\n",
    "data_achats = {'ID Achat': [1, 2, 3, 4, 5],\n",
    "               'ID Client': [101, 104, 102, 103, 105],\n",
    "               'Produit': ['Pommes', 'Oranges', 'Bananes', 'Pommes', 'Poires']}\n",
    "\n",
    "achats = pd.DataFrame(data_achats)\n",
    "# client\n",
    "data_clients = {'ID Client': [101, 102, 103, 104, 105],\n",
    "                'Nom': ['Alice', 'Bob', 'Charlie', 'David', 'Eve'],\n",
    "                'Pays': ['France', 'USA', 'Allemagne', 'France', 'Canada']}\n",
    "\n",
    "clients = pd.DataFrame(data_clients)\n",
    "# Effectuez une jointure naturelle pour obtenir une liste des achats associés aux clients.\n",
    "\n"
   ]
  },
  {
   "cell_type": "code",
   "execution_count": null,
   "metadata": {},
   "outputs": [],
   "source": [
    "# employès\n",
    "data_employés = {'ID Employé': [1, 2, 3, 4, 5],\n",
    "                 'Nom': ['Alice', 'Bob', 'Charlie', 'David', 'Eve'],\n",
    "                 'ID Département': [101, 104, 102, 103, 105]}\n",
    "\n",
    "employés = pd.DataFrame(data_employés)\n",
    "# département\n",
    "\n",
    "data_départements = {'ID Département': [101, 102, 103, 104, 105],\n",
    "                     'Nom Département': ['Ventes', 'RH', 'Finances', 'Technologie', 'Logistique']}\n",
    "\n",
    "départements = pd.DataFrame(data_départements)\n",
    "\n",
    "# Effectuez une jointure naturelle pour obtenir une liste des employés avec leurs départements."
   ]
  },
  {
   "cell_type": "code",
   "execution_count": null,
   "metadata": {},
   "outputs": [],
   "source": [
    "# etudiant\n",
    "data_étudiants = {'ID Étudiant': [1, 2, 3, 4, 5],\n",
    "                   'Nom': ['Alice', 'Bob', 'Charlie', 'David', 'Eve'],\n",
    "                   'ID Cours': [101, 104, 102, 103, 105]}\n",
    "\n",
    "étudiants = pd.DataFrame(data_étudiants)\n",
    "# cours\n",
    "data_cours = {'ID Cours': [101, 102, 103, 104, 105],\n",
    "               'Nom Cours': ['Mathématiques', 'Histoire', 'Physique', 'Anglais', 'Chimie']}\n",
    "\n",
    "cours = pd.DataFrame(data_cours)\n",
    "# Effectuez une jointure externe gauche pour obtenir une liste des étudiants avec les cours qu'ils suivent."
   ]
  }
 ],
 "metadata": {
  "kernelspec": {
   "display_name": "dataDibe",
   "language": "python",
   "name": "python3"
  },
  "language_info": {
   "name": "python",
   "version": "3.9.13"
  },
  "orig_nbformat": 4
 },
 "nbformat": 4,
 "nbformat_minor": 2
}
