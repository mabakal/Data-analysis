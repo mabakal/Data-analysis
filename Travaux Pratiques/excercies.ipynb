{
 "cells": [
  {
   "cell_type": "markdown",
   "metadata": {},
   "source": [
    "<h2>Excercies</h2>"
   ]
  },
  {
   "cell_type": "markdown",
   "metadata": {},
   "source": [
    "<em>Les variables</em>"
   ]
  },
  {
   "cell_type": "markdown",
   "metadata": {},
   "source": [
    "<h4>Exercice 1</h4>\n",
    "<p>\n",
    "    Soit nom = koffi, prénoms = Ama\n",
    "    Concaténez-les pour former votre nom complet.\n",
    "    Affichez le résultat.\n",
    "</p>"
   ]
  },
  {
   "cell_type": "code",
   "execution_count": 2,
   "metadata": {},
   "outputs": [],
   "source": [
    "nom = # Votre code\n",
    "prenoms = \"Ama\"\n",
    "nom_complet = \"Koffi\" + \" Ama\"\n",
    "assert nom_complet == \"Koffi Ama\", \"C'est incorrect\""
   ]
  },
  {
   "cell_type": "markdown",
   "metadata": {},
   "source": [
    "<h4>Exercice 2</h4>\n",
    "<p>\n",
    "    Créez une variable mot contenant une chaîne de caractères de votre choix.\n",
    "    Calculez et affichez la longueur de cette chaîne.\n",
    "</p>"
   ]
  },
  {
   "cell_type": "markdown",
   "metadata": {},
   "source": [
    "<h4>Exercice 3</h4>\n",
    "<p>\n",
    "    Creer deux variables langueur et largeur en les affectant une valeur.\n",
    "    Calculez et affichez le périmètre et la surface du rectangle.\n",
    "</p>"
   ]
  },
  {
   "cell_type": "markdown",
   "metadata": {},
   "source": [
    "<h4>Exercice 5</h4>\n",
    "<p>\n",
    "Soit température = 30 degrés Celsius.\n",
    "Convertissez cette température en degrés Fahrenheit en utilisant la formule : F = (C * 9/5) + 32.\n",
    "Affichez le résultat.\n",
    "</p>"
   ]
  },
  {
   "cell_type": "markdown",
   "metadata": {},
   "source": [
    "<em>Les structures de données</em>"
   ]
  },
  {
   "cell_type": "markdown",
   "metadata": {},
   "source": [
    "<h4>Exercice 1</h4>\n",
    "<p>\n",
    "Créez une liste de nombres.\n",
    "Utilisez une boucle pour calculer la somme de tous les éléments de la liste.\n",
    "Affichez la somme.\n",
    "</p>"
   ]
  },
  {
   "cell_type": "markdown",
   "metadata": {},
   "source": [
    "<h4>Exercice 2</h4>\n",
    "<p>\n",
    "Créez un dictionnaire de noms et d'âges.\n",
    "Ajoutez un nouvel élément au dictionnaire.\n",
    "Affichez le dictionnaire mis à jour.\n",
    "</p>"
   ]
  },
  {
   "cell_type": "markdown",
   "metadata": {},
   "source": [
    "<h4>Exercice 2</h4>\n",
    "<p>\n",
    "Créez une liste de listes pour représenter une matrice.\n",
    "Implémentez une fonction qui prend une matrice en entrée et renvoie la somme de tous les éléments.\n",
    "Testez la fonction avec votre matrice.\n",
    "</p>"
   ]
  }
 ],
 "metadata": {
  "kernelspec": {
   "display_name": "dataDibe",
   "language": "python",
   "name": "python3"
  },
  "language_info": {
   "codemirror_mode": {
    "name": "ipython",
    "version": 3
   },
   "file_extension": ".py",
   "mimetype": "text/x-python",
   "name": "python",
   "nbconvert_exporter": "python",
   "pygments_lexer": "ipython3",
   "version": "3.9.13"
  },
  "orig_nbformat": 4
 },
 "nbformat": 4,
 "nbformat_minor": 2
}
