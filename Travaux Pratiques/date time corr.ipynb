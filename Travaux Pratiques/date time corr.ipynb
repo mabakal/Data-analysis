{
 "cells": [
  {
   "cell_type": "code",
   "execution_count": 1,
   "metadata": {},
   "outputs": [
    {
     "name": "stdout",
     "output_type": "stream",
     "text": [
      "        Date\n",
      "0 2023-10-01\n",
      "1 2023-10-02\n",
      "2 2023-10-03\n",
      "3 2023-10-04\n",
      "4 2023-10-05\n"
     ]
    }
   ],
   "source": [
    "import pandas as pd\n",
    "\n",
    "# Exercice 1\n",
    "dates = pd.date_range('2023-10-01', periods=30)\n",
    "df = pd.DataFrame({'Date': dates})\n",
    "\n",
    "# Exercice 2\n",
    "print(df.head())\n"
   ]
  },
  {
   "cell_type": "code",
   "execution_count": 3,
   "metadata": {},
   "outputs": [
    {
     "data": {
      "text/html": [
       "<div>\n",
       "<style scoped>\n",
       "    .dataframe tbody tr th:only-of-type {\n",
       "        vertical-align: middle;\n",
       "    }\n",
       "\n",
       "    .dataframe tbody tr th {\n",
       "        vertical-align: top;\n",
       "    }\n",
       "\n",
       "    .dataframe thead th {\n",
       "        text-align: right;\n",
       "    }\n",
       "</style>\n",
       "<table border=\"1\" class=\"dataframe\">\n",
       "  <thead>\n",
       "    <tr style=\"text-align: right;\">\n",
       "      <th></th>\n",
       "      <th>Date</th>\n",
       "      <th>Heure</th>\n",
       "      <th>Date_Heure</th>\n",
       "    </tr>\n",
       "  </thead>\n",
       "  <tbody>\n",
       "    <tr>\n",
       "      <th>0</th>\n",
       "      <td>2023-10-01</td>\n",
       "      <td>12:30:00</td>\n",
       "      <td>2023-10-01 12:30:00</td>\n",
       "    </tr>\n",
       "    <tr>\n",
       "      <th>1</th>\n",
       "      <td>2023-10-02</td>\n",
       "      <td>13:45:00</td>\n",
       "      <td>2023-10-02 13:45:00</td>\n",
       "    </tr>\n",
       "    <tr>\n",
       "      <th>2</th>\n",
       "      <td>2023-10-03</td>\n",
       "      <td>14:20:00</td>\n",
       "      <td>2023-10-03 14:20:00</td>\n",
       "    </tr>\n",
       "  </tbody>\n",
       "</table>\n",
       "</div>"
      ],
      "text/plain": [
       "         Date     Heure          Date_Heure\n",
       "0  2023-10-01  12:30:00 2023-10-01 12:30:00\n",
       "1  2023-10-02  13:45:00 2023-10-02 13:45:00\n",
       "2  2023-10-03  14:20:00 2023-10-03 14:20:00"
      ]
     },
     "execution_count": 3,
     "metadata": {},
     "output_type": "execute_result"
    }
   ],
   "source": [
    "import pandas as pd\n",
    "\n",
    "# Exercice 2\n",
    "data = {'Date': ['2023-10-01', '2023-10-02', '2023-10-03'],\n",
    "        'Heure': ['12:30:00', '13:45:00', '14:20:00']}\n",
    "df = pd.DataFrame(data)\n",
    "df['Date_Heure'] = pd.to_datetime(df['Date'] + ' ' + df['Heure'])\n",
    "df\n"
   ]
  },
  {
   "cell_type": "code",
   "execution_count": 5,
   "metadata": {},
   "outputs": [
    {
     "data": {
      "text/html": [
       "<div>\n",
       "<style scoped>\n",
       "    .dataframe tbody tr th:only-of-type {\n",
       "        vertical-align: middle;\n",
       "    }\n",
       "\n",
       "    .dataframe tbody tr th {\n",
       "        vertical-align: top;\n",
       "    }\n",
       "\n",
       "    .dataframe thead th {\n",
       "        text-align: right;\n",
       "    }\n",
       "</style>\n",
       "<table border=\"1\" class=\"dataframe\">\n",
       "  <thead>\n",
       "    <tr style=\"text-align: right;\">\n",
       "      <th></th>\n",
       "      <th>Date</th>\n",
       "      <th>Jour_de_la_semaine</th>\n",
       "    </tr>\n",
       "  </thead>\n",
       "  <tbody>\n",
       "    <tr>\n",
       "      <th>0</th>\n",
       "      <td>2023-10-01</td>\n",
       "      <td>Sunday</td>\n",
       "    </tr>\n",
       "    <tr>\n",
       "      <th>1</th>\n",
       "      <td>2023-10-02</td>\n",
       "      <td>Monday</td>\n",
       "    </tr>\n",
       "    <tr>\n",
       "      <th>2</th>\n",
       "      <td>2023-10-03</td>\n",
       "      <td>Tuesday</td>\n",
       "    </tr>\n",
       "    <tr>\n",
       "      <th>3</th>\n",
       "      <td>2023-10-04</td>\n",
       "      <td>Wednesday</td>\n",
       "    </tr>\n",
       "    <tr>\n",
       "      <th>4</th>\n",
       "      <td>2023-10-05</td>\n",
       "      <td>Thursday</td>\n",
       "    </tr>\n",
       "    <tr>\n",
       "      <th>5</th>\n",
       "      <td>2023-10-06</td>\n",
       "      <td>Friday</td>\n",
       "    </tr>\n",
       "    <tr>\n",
       "      <th>6</th>\n",
       "      <td>2023-10-07</td>\n",
       "      <td>Saturday</td>\n",
       "    </tr>\n",
       "  </tbody>\n",
       "</table>\n",
       "</div>"
      ],
      "text/plain": [
       "        Date Jour_de_la_semaine\n",
       "0 2023-10-01             Sunday\n",
       "1 2023-10-02             Monday\n",
       "2 2023-10-03            Tuesday\n",
       "3 2023-10-04          Wednesday\n",
       "4 2023-10-05           Thursday\n",
       "5 2023-10-06             Friday\n",
       "6 2023-10-07           Saturday"
      ]
     },
     "execution_count": 5,
     "metadata": {},
     "output_type": "execute_result"
    }
   ],
   "source": [
    "import pandas as pd\n",
    "\n",
    "# Exercice 3\n",
    "dates = pd.date_range('2023-10-01', periods=7)\n",
    "df = pd.DataFrame({'Date': dates})\n",
    "df['Jour_de_la_semaine'] = df['Date'].dt.day_name()\n",
    "df\n"
   ]
  },
  {
   "cell_type": "code",
   "execution_count": 6,
   "metadata": {},
   "outputs": [
    {
     "name": "stdout",
     "output_type": "stream",
     "text": [
      "4.285714285714286\n"
     ]
    }
   ],
   "source": [
    "import pandas as pd\n",
    "\n",
    "# Exercice 4\n",
    "dates = pd.date_range('2023-10-01', periods=30)\n",
    "df = pd.DataFrame({'Date': dates})\n",
    "df['Jour_de_la_semaine'] = df['Date'].dt.day_name()\n",
    "moyenne_jour_semaine = df.groupby('Jour_de_la_semaine').size().mean()\n",
    "print(moyenne_jour_semaine)\n"
   ]
  },
  {
   "cell_type": "code",
   "execution_count": null,
   "metadata": {},
   "outputs": [],
   "source": [
    "import pandas as pd\n",
    "\n",
    "# Exercice 4\n",
    "dates = pd.date_range('2023-10-01', periods=30)\n",
    "df = pd.DataFrame({'Date': dates})\n",
    "df['Jour_de_la_semaine'] = df['Date'].dt.day_name()\n",
    "moyenne_jour_semaine = df.groupby('Jour_de_la_semaine').size().mean()\n",
    "print(moyenne_jour_semaine)\n"
   ]
  },
  {
   "cell_type": "code",
   "execution_count": null,
   "metadata": {},
   "outputs": [],
   "source": [
    "import pandas as pd\n",
    "\n",
    "# Exercice 5\n",
    "dates = pd.date_range('2023-10-01', periods=90)\n",
    "df = pd.DataFrame({'Date': dates})\n",
    "df['Mois'] = df['Date'].dt.month\n",
    "somme_par_mois = df.groupby('Mois').size()\n",
    "print(somme_par_mois)\n"
   ]
  },
  {
   "cell_type": "code",
   "execution_count": null,
   "metadata": {},
   "outputs": [],
   "source": [
    "import pandas as pd\n",
    "\n",
    "# Exercice 6\n",
    "data = {'Date': ['2023-10-01', '2023-10-02'],\n",
    "        'Heure': ['12:30:00', '13:45:00']}\n",
    "df = pd.DataFrame(data)\n",
    "df['Date_Heure'] = pd.to_datetime(df['Date'] + ' ' + df['Heure'])\n"
   ]
  },
  {
   "cell_type": "code",
   "execution_count": null,
   "metadata": {},
   "outputs": [],
   "source": [
    "import pandas as pd\n",
    "\n",
    "# Exercice 7\n",
    "date1 = pd.to_datetime('2023-10-01')\n",
    "date2 = pd.to_datetime('2023-10-15')\n",
    "difference_en_jours = (date2 - date1).days\n",
    "print(difference_en_jours)\n"
   ]
  },
  {
   "cell_type": "code",
   "execution_count": null,
   "metadata": {},
   "outputs": [],
   "source": [
    "import pandas as pd\n",
    "\n",
    "# Exercice 8\n",
    "dates = pd.date_range('2023-10-01', periods=30)\n",
    "df = pd.DataFrame({'Date': dates})\n",
    "df['Jour_de_la_semaine'] = df['Date'].dt.day_name()\n",
    "df['Est_jour_ouvre'] = df['Jour_de_la_semaine'].isin(['Monday', 'Tuesday', 'Wednesday', 'Thursday'])\n"
   ]
  },
  {
   "cell_type": "code",
   "execution_count": null,
   "metadata": {},
   "outputs": [],
   "source": [
    "import pandas as pd\n",
    "\n",
    "# Exercice 9\n",
    "data = {'Date': ['2023-10-01', '2023-10-02'],\n",
    "        'Heure': ['12:30:00', '13:45:00']}\n",
    "df = pd.DataFrame(data)\n",
    "df['Datetime'] = pd.to_datetime(df['Date'] + ' ' + df['Heure'])\n",
    "df['Datetime_str'] = df['Datetime'].dt.strftime('%Y-%m-%d %H:%M:%S')\n"
   ]
  },
  {
   "cell_type": "code",
   "execution_count": null,
   "metadata": {},
   "outputs": [],
   "source": [
    "import pandas as pd\n",
    "\n",
    "# Exercice 10\n",
    "dates = pd.date_range('2023-10-01', periods=30)\n",
    "df = pd.DataFrame({'Date': dates})\n",
    "df['Trimestre'] = df['Date'].dt.quarter\n"
   ]
  }
 ],
 "metadata": {
  "kernelspec": {
   "display_name": "dataDibe",
   "language": "python",
   "name": "python3"
  },
  "language_info": {
   "codemirror_mode": {
    "name": "ipython",
    "version": 3
   },
   "file_extension": ".py",
   "mimetype": "text/x-python",
   "name": "python",
   "nbconvert_exporter": "python",
   "pygments_lexer": "ipython3",
   "version": "3.9.13"
  },
  "orig_nbformat": 4
 },
 "nbformat": 4,
 "nbformat_minor": 2
}
