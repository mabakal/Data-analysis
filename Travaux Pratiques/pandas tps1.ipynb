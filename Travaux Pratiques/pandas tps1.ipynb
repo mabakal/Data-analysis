{
 "cells": [
  {
   "cell_type": "code",
   "execution_count": null,
   "metadata": {},
   "outputs": [],
   "source": [
    "import pandas as pd"
   ]
  },
  {
   "cell_type": "markdown",
   "metadata": {},
   "source": [
    "<h4>Excercie 1</h4>"
   ]
  },
  {
   "cell_type": "code",
   "execution_count": null,
   "metadata": {},
   "outputs": [],
   "source": [
    "\n",
    "\n",
    "# Votre code ici\n",
    "# Créez une série appelée serie1 avec les valeurs suivantes : [10, 20, 30, 40, 50].\n",
    "serie = # votre code ici\n",
    "# Affichez la série serie1.\n",
    "# Votre code ici\n"
   ]
  },
  {
   "cell_type": "markdown",
   "metadata": {},
   "source": [
    "<h4>Excercie 2</h4>"
   ]
  },
  {
   "cell_type": "code",
   "execution_count": null,
   "metadata": {},
   "outputs": [],
   "source": [
    "# Créez une série appelée serie2 avec les valeurs suivantes : [100, 200, 300, 400, 500] et l'index [\"A\", \"2\", \"B\", \"3\", \"C\"].\n",
    "\n",
    "serie = # votre code ici\n",
    "# Affichez la série serie1.\n",
    "# Votre code ici\n"
   ]
  },
  {
   "cell_type": "markdown",
   "metadata": {},
   "source": [
    "<h4>Excercice 3</h4>"
   ]
  },
  {
   "cell_type": "code",
   "execution_count": null,
   "metadata": {},
   "outputs": [],
   "source": [
    "# Créez un dictionnaire appelé data avec les clés 'Nom', 'Âge' et 'Ville', et les valeurs correspondantes.\n",
    "data = # Votre code ici\n",
    "# Transformez ce dictionnaire en un DataFrame appelé df1."
   ]
  },
  {
   "cell_type": "markdown",
   "metadata": {},
   "source": [
    "<h4>Excercice 4</h4>"
   ]
  },
  {
   "cell_type": "code",
   "execution_count": null,
   "metadata": {},
   "outputs": [],
   "source": [
    "# Créez trois listes : noms, age, notes\n",
    "\n",
    "# Créez un DataFrame appelé df2 à partir de ces listes, en utilisant les noms des colonnes 'Nom', 'Âge' et 'Ville'."
   ]
  },
  {
   "cell_type": "markdown",
   "metadata": {},
   "source": [
    "<h4>Excercie 5</h4>"
   ]
  },
  {
   "cell_type": "code",
   "execution_count": null,
   "metadata": {},
   "outputs": [],
   "source": [
    "# Créez un dictionnaire avec des données contenant des valeurs manquantes (np.nan ou None).\n",
    "# Transformez ce dictionnaire en un DataFrame appelé df4.\n"
   ]
  }
 ],
 "metadata": {
  "language_info": {
   "name": "python"
  },
  "orig_nbformat": 4
 },
 "nbformat": 4,
 "nbformat_minor": 2
}
