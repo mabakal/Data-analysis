{
 "cells": [
  {
   "cell_type": "markdown",
   "metadata": {},
   "source": [
    "<h4> Excercice 1<h4>"
   ]
  },
  {
   "cell_type": "code",
   "execution_count": null,
   "metadata": {},
   "outputs": [],
   "source": [
    "# 1 Créez un DataFrame avec une colonne contenant des dates pour une période d'un mois.\n",
    "# 2 Affichez les 5 premières lignes du DataFrame."
   ]
  },
  {
   "cell_type": "markdown",
   "metadata": {},
   "source": [
    "<h4>Exceceice 2</h4>"
   ]
  },
  {
   "cell_type": "code",
   "execution_count": null,
   "metadata": {},
   "outputs": [],
   "source": [
    "# Créez un DataFrame avec deux colonnes : une pour la date et une pour l'heure.\n",
    "\n",
    "# Combinez ces deux colonnes pour créer une colonne avec la date et l'heure complètes.\n"
   ]
  },
  {
   "cell_type": "markdown",
   "metadata": {},
   "source": [
    "<h4>Excercice 3</h4>"
   ]
  },
  {
   "cell_type": "code",
   "execution_count": null,
   "metadata": {},
   "outputs": [],
   "source": [
    "# Créez un DataFrame avec une colonne contenant des dates pour une période d'une semaine.\n",
    "\n",
    "# Ajoutez une colonne pour représenter le jour de la semaine correspondant à chaque date."
   ]
  },
  {
   "cell_type": "markdown",
   "metadata": {},
   "source": [
    "<h4>Excercice 4</h4>"
   ]
  },
  {
   "cell_type": "code",
   "execution_count": null,
   "metadata": {},
   "outputs": [],
   "source": [
    "# Créez un DataFrame avec une colonne contenant des dates pour une période d'un mois.\n",
    "# Calculez la moyenne des jours de la semaine."
   ]
  },
  {
   "cell_type": "markdown",
   "metadata": {},
   "source": [
    "<h4>Excercie 5</h4>"
   ]
  },
  {
   "cell_type": "code",
   "execution_count": null,
   "metadata": {},
   "outputs": [],
   "source": [
    "# Créez un DataFrame avec une colonne contenant des dates pour une période de trois mois.\n",
    "# Groupez les données par mois et calculez la somme des valeurs pour chaque mois."
   ]
  },
  {
   "cell_type": "markdown",
   "metadata": {},
   "source": [
    "<h4>Excercie 6</h4>"
   ]
  },
  {
   "cell_type": "code",
   "execution_count": null,
   "metadata": {},
   "outputs": [],
   "source": [
    "# Créez un DataFrame avec une colonne contenant des dates et une colonne contenant des heures.\n",
    "# Ajoutez une colonne qui combine la date et l'heure en un seul objet DateTime.\n"
   ]
  },
  {
   "cell_type": "markdown",
   "metadata": {},
   "source": [
    "<h4>Excercice 7</h4>"
   ]
  },
  {
   "cell_type": "code",
   "execution_count": null,
   "metadata": {},
   "outputs": [],
   "source": [
    "# Créez un DataFrame avec deux colonnes contenant des dates.\n",
    "# Calculez la différence en jours entre les deux dates."
   ]
  },
  {
   "cell_type": "markdown",
   "metadata": {},
   "source": [
    "<h4>Excercice 8</h4>"
   ]
  },
  {
   "cell_type": "code",
   "execution_count": null,
   "metadata": {},
   "outputs": [],
   "source": [
    "# Créez un DataFrame avec une colonne contenant des dates pour une période de deux mois.\n",
    "# Ajoutez une colonne qui indique si la date est un jour ouvré (du lundi au vendredi) ou un week-end."
   ]
  },
  {
   "cell_type": "markdown",
   "metadata": {},
   "source": [
    "<h4>Excercice 9</h4>"
   ]
  },
  {
   "cell_type": "code",
   "execution_count": null,
   "metadata": {},
   "outputs": [],
   "source": [
    "# Créez un DataFrame avec une colonne contenant des dates et une colonne contenant des heures.\n",
    "#  Ajoutez une colonne pour représenter la date et l'heure au format 'AAAA-MM-JJ HH:MM:SS'."
   ]
  },
  {
   "cell_type": "markdown",
   "metadata": {},
   "source": [
    "<h4>Excercice 10</h4>"
   ]
  },
  {
   "cell_type": "code",
   "execution_count": null,
   "metadata": {},
   "outputs": [],
   "source": [
    "# Créez un DataFrame avec une colonne contenant des dates pour une période d'un mois.\n",
    "# Ajoutez une colonne pour représenter le trimestre auquel chaque date appartient."
   ]
  }
 ],
 "metadata": {
  "language_info": {
   "name": "python"
  },
  "orig_nbformat": 4
 },
 "nbformat": 4,
 "nbformat_minor": 2
}
