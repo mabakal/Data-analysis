{
 "cells": [
  {
   "cell_type": "code",
   "execution_count": null,
   "metadata": {},
   "outputs": [],
   "source": [
    "import matplotlib.pyplot as plt\n",
    "import random\n",
    "plt.style.use(\"ggplot\")"
   ]
  },
  {
   "cell_type": "code",
   "execution_count": null,
   "metadata": {},
   "outputs": [],
   "source": [
    "\"\"\" \n",
    "Exercice 1 : Tracer un graphique linéaire\n",
    "Créez un graphique linéaire simple représentant une série de données, par exemple, \n",
    "les ventes mensuelles d'un produit sur une année.\n",
    "\"\"\"\n",
    "months = ['Jan', 'Feb', 'Mar', 'Apr', 'May', 'Jun', 'Jul', 'Aug', 'Sep', 'Oct', 'Nov', 'Dec']\n",
    "sales = [random.randint(1000, 5000) for _ in range(12)]\n"
   ]
  },
  {
   "cell_type": "code",
   "execution_count": null,
   "metadata": {},
   "outputs": [],
   "source": [
    "\"\"\" \n",
    "Exercice 2 : Créer un histogramme\n",
    "Utilisez un jeu de données contenant des scores pour générer un histogramme montrant la distribution des scores.\n",
    "\"\"\"\n",
    "plt.figure(figsize=(15, 10))\n",
    "scores = [random.randint(50, 100) for _ in range(100)]"
   ]
  },
  {
   "cell_type": "code",
   "execution_count": null,
   "metadata": {},
   "outputs": [],
   "source": [
    "\"\"\" \n",
    "Exercice 3 : Tracer un diagramme en barres\n",
    "Créez un diagramme en barres pour représenter la fréquence d'occurrence de différentes catégories, par exemple, \n",
    "le nombre de voitures de différentes marques sur la route.\n",
    "\"\"\"\n",
    "brands = ['Toyota', 'Honda', 'Ford', 'Chevrolet', 'Nissan']\n",
    "car_count = [random.randint(100, 500) for _ in range(5)]"
   ]
  },
  {
   "cell_type": "code",
   "execution_count": null,
   "metadata": {},
   "outputs": [],
   "source": [
    "\"\"\"\n",
    "Exercice 4 : Créer un nuage de points (scatter plot)\n",
    "Utilisez un jeu de données avec deux variables pour créer un nuage de points qui montre la relation entre \n",
    "ces deux variables.\n",
    "\"\"\"\n",
    "x = [random.randint(1, 50) for _ in range(50)]\n",
    "y = [random.randint(1, 50) for _ in range(50)]"
   ]
  },
  {
   "cell_type": "code",
   "execution_count": null,
   "metadata": {},
   "outputs": [],
   "source": [
    "\"\"\" \n",
    "Exercice 5 : Construire un diagramme circulaire (pie chart)\n",
    "Créez un diagramme circulaire qui montre la répartition des ventes entre différents produits dans un magasin.\n",
    "\"\"\"\n",
    "products = ['Produit A', 'Produit B', 'Produit C', 'Produit D']\n",
    "sales = [random.randint(10, 100) for _ in range(4)]"
   ]
  },
  {
   "cell_type": "code",
   "execution_count": null,
   "metadata": {},
   "outputs": [],
   "source": [
    "\"\"\" \n",
    "Exercice 6 : Créer un graphique à barres empilées (stacked bar chart)\n",
    "Représentez les ventes totales de plusieurs produits au fil du temps à l'aide d'un graphique à barres empilées.\n",
    "\"\"\"\n",
    "years = [2019, 2020, 2021]\n",
    "product_a = [random.randint(100, 300) for _ in range(3)]\n",
    "product_b = [random.randint(100, 300) for _ in range(3)]\n"
   ]
  },
  {
   "cell_type": "code",
   "execution_count": null,
   "metadata": {},
   "outputs": [],
   "source": [
    "\"\"\" \n",
    "Exercice 7 : Créer un graphique à secteurs (pie chart)\n",
    "Générez un graphique à secteurs qui montre la répartition des dépenses dans un budget mensuel.\n",
    "\"\"\"\n",
    "categories = ['Logement', 'Alimentation', 'Transport', 'Loisirs', 'Autres']\n",
    "expenses = [random.randint(500, 3000) for _ in range(5)]\n"
   ]
  },
  {
   "cell_type": "code",
   "execution_count": null,
   "metadata": {},
   "outputs": [],
   "source": [
    "\"\"\" \n",
    "Exercice 8 : Tracer un graphique de lignes avec plusieurs lignes\n",
    "Créez un graphique de lignes avec plusieurs séries de données pour comparer les performances de différents produits.\n",
    "\"\"\"\n",
    "years = [2010, 2011, 2012, 2013, 2014]\n",
    "product_a = [random.randint(100, 300) for _ in range(5)]\n",
    "product_b = [random.randint(100, 300) for _ in range(5)]"
   ]
  },
  {
   "cell_type": "code",
   "execution_count": null,
   "metadata": {},
   "outputs": [],
   "source": [
    "\"\"\" \n",
    "Exercice 9 : Créer un graphique en boîte (box plot)\n",
    "Utilisez un ensemble de données contenant des mesures pour représenter les statistiques de base et\n",
    "les valeurs aberrantes à l'aide d'un graphique en boîte.\n",
    "\"\"\"\n",
    "data = [random.randint(50, 100) for _ in range(100)]"
   ]
  }
 ],
 "metadata": {
  "kernelspec": {
   "display_name": "dataDibe",
   "language": "python",
   "name": "python3"
  },
  "language_info": {
   "name": "python",
   "version": "3.9.13"
  }
 },
 "nbformat": 4,
 "nbformat_minor": 2
}
