{
 "cells": [
  {
   "cell_type": "code",
   "execution_count": null,
   "metadata": {},
   "outputs": [],
   "source": []
  },
  {
   "cell_type": "markdown",
   "metadata": {},
   "source": [
    "<h2> Structure de données en numpy </h2>"
   ]
  },
  {
   "cell_type": "markdown",
   "metadata": {},
   "source": [
    " ndarray (N-dimensional array) est le principal objet fourni par la bibliothèque NumPy pour travailler avec des tableaux multidimensionnels. Cela signifie qu'il peut représenter des tableaux à une dimension (comme des listes), des tableaux à deux dimensions (comme des matrices), des tableaux à trois dimensions, et ainsi de suite."
   ]
  },
  {
   "cell_type": "markdown",
   "metadata": {},
   "source": [
    "### Comment créer un tableau multidimentionnel?"
   ]
  }
 ],
 "metadata": {
  "language_info": {
   "name": "python"
  }
 },
 "nbformat": 4,
 "nbformat_minor": 2
}
