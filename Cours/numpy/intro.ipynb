{
 "cells": [
  {
   "cell_type": "markdown",
   "metadata": {},
   "source": [
    "## Introduction á numpy"
   ]
  },
  {
   "cell_type": "markdown",
   "metadata": {},
   "source": [
    "NumPy est une bibliothèque open-source de calcul numérique en Python. Elle fournit des outils pour travailler avec des tableaux multidimensionnels (généralement des tableaux NumPy) et des fonctions mathématiques pour effectuer des opérations complexes sur ces tableaux."
   ]
  },
  {
   "cell_type": "markdown",
   "metadata": {},
   "source": [
    "### Quelques caractéristique de numpy"
   ]
  },
  {
   "cell_type": "markdown",
   "metadata": {},
   "source": [
    "1. **Tableaux multidimensionnels (arrays) :** NumPy fournit une structure de données appelée `ndarray` qui permet de stocker des données de manière efficace et d'effectuer des opérations vectorielles sur ces données.\n",
    "\n",
    "2. **Fonctions mathématiques :** NumPy inclut un grand nombre de fonctions pour effectuer des opérations mathématiques sur les tableaux, comme l'addition, la soustraction, la multiplication, etc.\n",
    "\n",
    "3. **Fonctions pour l'algèbre linéaire :** NumPy propose des fonctions pour effectuer des opérations d'algèbre linéaire, comme la résolution de systèmes d'équations linéaires, le calcul des valeurs propres et des vecteurs propres, etc.\n",
    "\n",
    "4. **Fonctions pour les transformations de Fourier :** NumPy fournit des outils pour effectuer des transformations de Fourier discrètes, ce qui est essentiel dans le traitement du signal.\n",
    "\n",
    "5. **Génération de nombres aléatoires :** NumPy inclut des fonctions pour générer des nombres pseudo-aléatoires selon diverses distributions statistiques.\n",
    "\n",
    "6. **Intégration avec d'autres bibliothèques :** NumPy est souvent utilisé en conjonction avec d'autres bibliothèques Python, comme SciPy (pour des fonctions mathématiques plus avancées), Matplotlib (pour la visualisation de données) et Pandas (pour la manipulation de données)."
   ]
  },
  {
   "cell_type": "markdown",
   "metadata": {},
   "source": [
    "### Compatibilité"
   ]
  },
  {
   "cell_type": "markdown",
   "metadata": {},
   "source": [
    "NumPy est compatible avec de nombreuses autres bibliothèques Python. Voici quelques-unes des bibliothèques les plus couramment utilisées qui sont souvent utilisées en conjonction avec NumPy :\n",
    "\n",
    "1. **SciPy :** SciPy est une bibliothèque qui construit sur NumPy et fournit des fonctionnalités supplémentaires pour la résolution de problèmes scientifiques et d'ingénierie. Elle propose des outils pour l'optimisation, l'algèbre linéaire avancée, l'intégration numérique, les statistiques et bien plus encore.\n",
    "\n",
    "2. **Matplotlib :** Matplotlib est une bibliothèque de visualisation de données qui permet de créer des graphiques et des visualisations à partir des données stockées dans des tableaux NumPy.\n",
    "\n",
    "3. **Pandas :** Pandas est une bibliothèque qui offre des structures de données et des outils pour la manipulation et l'analyse de données. Elle repose sur NumPy et permet de travailler avec des données tabulaires.\n",
    "\n",
    "4. **Scikit-learn :** Scikit-learn est une bibliothèque d'apprentissage automatique en Python qui utilise des tableaux NumPy pour représenter les données d'apprentissage et les modèles d'apprentissage.\n",
    "\n",
    "5. **TensorFlow et PyTorch :** Ces deux bibliothèques sont des cadres populaires pour l'apprentissage en profondeur (deep learning). Elles sont souvent utilisées en conjonction avec NumPy pour la manipulation des données et le prétraitement avant de les alimenter dans des réseaux de neurones.\n",
    "\n",
    "6. **Statsmodels :** Statsmodels est une bibliothèque qui fournit des modèles statistiques et des outils pour l'estimation de paramètres, les tests statistiques, etc. Elle repose sur NumPy pour les opérations mathématiques de base.\n",
    "\n",
    "En résumé, NumPy est une bibliothèque fondamentale qui s'intègre bien avec de nombreuses autres bibliothèques Python utilisées dans les domaines de la science des données, de l'apprentissage automatique, de la recherche scientifique et d'autres domaines similaires. Cela en fait un pilier central de l'écosystème Python pour le calcul scientifique et numérique.\n"
   ]
  },
  {
   "cell_type": "markdown",
   "metadata": {},
   "source": [
    "### Installation de numpy"
   ]
  },
  {
   "cell_type": "markdown",
   "metadata": {},
   "source": [
    "il y a plusieurs manière d'installer numpy."
   ]
  },
  {
   "cell_type": "markdown",
   "metadata": {},
   "source": [
    "#### Avec pip"
   ]
  },
  {
   "cell_type": "markdown",
   "metadata": {},
   "source": [
    "`pip install numpy`"
   ]
  },
  {
   "cell_type": "markdown",
   "metadata": {},
   "source": [
    "#### Exemple de fonction de numpy"
   ]
  },
  {
   "cell_type": "code",
   "execution_count": 1,
   "metadata": {},
   "outputs": [
    {
     "name": "stdout",
     "output_type": "stream",
     "text": [
      "[[19 22]\n",
      " [43 50]]\n"
     ]
    }
   ],
   "source": [
    "import numpy as np\n",
    "\n",
    "# Définir les matrices\n",
    "A = np.array([[1, 2], [3, 4]])\n",
    "B = np.array([[5, 6], [7, 8]])\n",
    "\n",
    "# Effectuer le produit matriciel\n",
    "C = np.dot(A, B)\n",
    "\n",
    "print(C)\n"
   ]
  },
  {
   "cell_type": "markdown",
   "metadata": {},
   "source": [
    "### Les sous modules de numpy"
   ]
  },
  {
   "cell_type": "markdown",
   "metadata": {},
   "source": [
    "1. **`numpy.array`** : Il s'agit du sous-module principal qui définit le type `ndarray` (tableau NumPy) ainsi que de nombreuses fonctions pour créer et manipuler ces tableaux.\n",
    "\n",
    "2. **`numpy.random`** : Ce sous-module fournit des fonctions pour générer des nombres aléatoires ou pseudo-aléatoires. Cela inclut diverses distributions de probabilités.\n",
    "\n",
    "3. **`numpy.linalg`** : Ce sous-module contient des fonctions pour l'algèbre linéaire, telles que le calcul des valeurs propres, des vecteurs propres, la résolution de systèmes d'équations linéaires, etc.\n",
    "\n",
    "4. **`numpy.fft`** : Il s'agit d'un module pour effectuer des transformations de Fourier et des opérations liées à la transformée de Fourier.\n",
    "\n",
    "5. **`numpy.matlib`** : Ce sous-module fournit des fonctions pour créer et manipuler des matrices.\n",
    "\n",
    "6. **`numpy.polynomial`** : Il offre des outils pour travailler avec des polynômes, notamment l'évaluation, la dérivation, l'intégration, etc.\n",
    "\n",
    "7. **`numpy.ma`** : Le sous-module \"ma\" (pour masque) fournit des tableaux masqués qui permettent de masquer des éléments indésirables dans un tableau NumPy.\n"
   ]
  }
 ],
 "metadata": {
  "kernelspec": {
   "display_name": "dataDibe",
   "language": "python",
   "name": "python3"
  },
  "language_info": {
   "codemirror_mode": {
    "name": "ipython",
    "version": 3
   },
   "file_extension": ".py",
   "mimetype": "text/x-python",
   "name": "python",
   "nbconvert_exporter": "python",
   "pygments_lexer": "ipython3",
   "version": "3.9.13"
  }
 },
 "nbformat": 4,
 "nbformat_minor": 2
}
