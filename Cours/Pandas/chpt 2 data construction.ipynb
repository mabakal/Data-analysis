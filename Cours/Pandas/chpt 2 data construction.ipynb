{
 "cells": [
  {
   "cell_type": "markdown",
   "metadata": {},
   "source": [
    "<style>\n",
    "div{\n",
    "    text-align: center;\n",
    "}\n",
    "</style>\n",
    "<div>\n",
    "    <h2>Manipulation de données: <span>Jointure et concaténation<span></h2>\n",
    "    <h3>BADJO Dibéa koffi</h3>\n",
    "    <p>Scientifique de données et un ingénieur de logiciel</p>\n",
    "</div>"
   ]
  },
  {
   "cell_type": "markdown",
   "metadata": {},
   "source": [
    "<h4>Jointure</h4>"
   ]
  },
  {
   "cell_type": "markdown",
   "metadata": {},
   "source": [
    "<p>\n",
    "    une jointure est une opération qui combine les enregistrements de deux ou plusieurs tables en fonction d'une condition spécifiée. Le résultat de cette opération est une nouvelle table qui combine les colonnes des tables d'origine en fonction de la condition de jointure.\n",
    "</p>"
   ]
  },
  {
   "cell_type": "markdown",
   "metadata": {},
   "source": [
    "<em>Les différent types de jointure</em>"
   ]
  },
  {
   "cell_type": "markdown",
   "metadata": {},
   "source": [
    "<ul>\n",
    "    <li>\n",
    "        <em>Inner Join (Jointure Interne) </em>\n",
    "        <p>\n",
    "            Cette jointure renvoie uniquement les lignes qui ont des correspondances dans les deux tables. Autrement dit, elle renvoie les enregistrements qui se trouvent à la fois dans la première table et dans la deuxième table.\n",
    "        </p>\n",
    "    </li>\n",
    "    <li>\n",
    "        <em>Left Join (Jointure Gauche) :</em>\n",
    "        <p>\n",
    "            Cette jointure renvoie toutes les lignes de la première table, ainsi que les lignes de la deuxième table qui ont une correspondance. Si aucune correspondance n'est trouvée dans la deuxième table, NULL est renvoyé pour les colonnes de la deuxième table.\n",
    "        </p>\n",
    "    </li>\n",
    "    <li>\n",
    "        <em>Right Join (Jointure Droite)  </em>\n",
    "        <p>\n",
    "             C'est l'inverse du Left Join. Elle renvoie toutes les lignes de la deuxième table, ainsi que les lignes de la première table qui ont une correspondance. Si aucune correspondance n'est trouvée dans la première table, NULL est renvoyé pour les colonnes de la première table.\n",
    "        </p>\n",
    "    </li>\n",
    "    <li>\n",
    "        <em>Full Outer Join (Jointure Externe Complète)  </em>\n",
    "        <p>\n",
    "            Cette jointure renvoie toutes les lignes lorsqu'il y a une correspondance dans l'une des tables. Elle renvoie également les lignes des deux tables qui ne correspondent pas l'une à l'autre.\n",
    "        </p>\n",
    "    </li>\n",
    "    <li>\n",
    "        <em>Self Join (Auto-Jointure) : </em>\n",
    "        <p>\n",
    "            Une auto-jointure est une jointure d'une table avec elle-même. Elle est utilisée pour combiner des lignes avec d'autres lignes de la même table.\n",
    "        </p>\n",
    "    </li>\n",
    "    <li>\n",
    "        <em>Cross Join (Produit Cartésien) :  </em>\n",
    "        <p>\n",
    "            Cette jointure renvoie le produit cartésien des enregistrements entre deux tables. Cela signifie que chaque ligne de la première table est combinée avec chaque ligne de la deuxième table.\n",
    "        </p>\n",
    "    </li>\n",
    "\n",
    "</ul>"
   ]
  },
  {
   "cell_type": "markdown",
   "metadata": {},
   "source": [
    "<h5>Comment effectuer la jointure</h5>"
   ]
  },
  {
   "cell_type": "markdown",
   "metadata": {},
   "source": [
    "<p>Pour effectuer la jointure avec pandas, il y a plusieur manière de le faire, la fonction merge est le plus souvent utilisé, voici ces paramètre.</p>"
   ]
  },
  {
   "cell_type": "markdown",
   "metadata": {},
   "source": [
    "<ul>\n",
    "    <li>\n",
    "        <em>left</em>\n",
    "        <p>Le premier DataFrame à fusionner.</p>\n",
    "    </li>\n",
    "    <li>\n",
    "        <em>right</em>\n",
    "        <p>Le Deuxième DataFrame à fusionner.</p>\n",
    "    </li>\n",
    "    <li>\n",
    "        <em>on</em>\n",
    "        <p>Le nom de la (ou des) colonne(s) sur laquelle la fusion doit être effectuée. Cela doit être une colonne présente dans les deux DataFrames.</p>\n",
    "    </li>\n",
    "    <li>\n",
    "        <em>how</em>\n",
    "        <p>Le type de jointure à effectuer</p>\n",
    "    </li>\n",
    "</ul>\n",
    "<p>Ceux ci sont les paramètre oblicatoir á passer á la fonction merge</p>"
   ]
  },
  {
   "cell_type": "markdown",
   "metadata": {},
   "source": [
    "<em>Inner join</em>"
   ]
  },
  {
   "cell_type": "markdown",
   "metadata": {},
   "source": [
    "<p>Supposons que vous aiyez deux DataFrames représentant des informations sur des employés et les départements auxquels ils sont affectés.</p>"
   ]
  },
  {
   "cell_type": "code",
   "execution_count": 1,
   "metadata": {},
   "outputs": [
    {
     "name": "stdout",
     "output_type": "stream",
     "text": [
      "   employe_id      nom  departement_id\n",
      "0           1    Alice             101\n",
      "1           2      Bob             102\n",
      "2           3  Charlie             101\n",
      "3           4    David             103\n",
      "   departement_id nom_departement\n",
      "0             101          Ventes\n",
      "1             102       Marketing\n",
      "2             103             R&D\n",
      "3             104    Comptabilité\n"
     ]
    },
    {
     "data": {
      "text/html": [
       "<div>\n",
       "<style scoped>\n",
       "    .dataframe tbody tr th:only-of-type {\n",
       "        vertical-align: middle;\n",
       "    }\n",
       "\n",
       "    .dataframe tbody tr th {\n",
       "        vertical-align: top;\n",
       "    }\n",
       "\n",
       "    .dataframe thead th {\n",
       "        text-align: right;\n",
       "    }\n",
       "</style>\n",
       "<table border=\"1\" class=\"dataframe\">\n",
       "  <thead>\n",
       "    <tr style=\"text-align: right;\">\n",
       "      <th></th>\n",
       "      <th>employe_id</th>\n",
       "      <th>nom</th>\n",
       "      <th>departement_id</th>\n",
       "      <th>nom_departement</th>\n",
       "    </tr>\n",
       "  </thead>\n",
       "  <tbody>\n",
       "    <tr>\n",
       "      <th>0</th>\n",
       "      <td>1</td>\n",
       "      <td>Alice</td>\n",
       "      <td>101</td>\n",
       "      <td>Ventes</td>\n",
       "    </tr>\n",
       "    <tr>\n",
       "      <th>1</th>\n",
       "      <td>3</td>\n",
       "      <td>Charlie</td>\n",
       "      <td>101</td>\n",
       "      <td>Ventes</td>\n",
       "    </tr>\n",
       "    <tr>\n",
       "      <th>2</th>\n",
       "      <td>2</td>\n",
       "      <td>Bob</td>\n",
       "      <td>102</td>\n",
       "      <td>Marketing</td>\n",
       "    </tr>\n",
       "    <tr>\n",
       "      <th>3</th>\n",
       "      <td>4</td>\n",
       "      <td>David</td>\n",
       "      <td>103</td>\n",
       "      <td>R&amp;D</td>\n",
       "    </tr>\n",
       "  </tbody>\n",
       "</table>\n",
       "</div>"
      ],
      "text/plain": [
       "   employe_id      nom  departement_id nom_departement\n",
       "0           1    Alice             101          Ventes\n",
       "1           3  Charlie             101          Ventes\n",
       "2           2      Bob             102       Marketing\n",
       "3           4    David             103             R&D"
      ]
     },
     "execution_count": 1,
     "metadata": {},
     "output_type": "execute_result"
    }
   ],
   "source": [
    "import pandas as pd\n",
    "\n",
    "# Création du premier DataFrame 'employes'\n",
    "employes = pd.DataFrame({\n",
    "    'employe_id': [1, 2, 3, 4],\n",
    "    'nom': ['Alice', 'Bob', 'Charlie', 'David'],\n",
    "    'departement_id': [101, 102, 101, 103]\n",
    "})\n",
    "print(employes)\n",
    "# Création du deuxième DataFrame 'departements'\n",
    "departements = pd.DataFrame({\n",
    "    'departement_id': [101, 102, 103, 104],\n",
    "    'nom_departement': ['Ventes', 'Marketing', 'R&D', 'Comptabilité']\n",
    "})\n",
    "print(departements)\n",
    "# Effectuer une jointure interne sur la colonne 'departement_id'\n",
    "resultat = pd.merge(employes, departements, on='departement_id', how='inner')\n",
    "\n",
    "resultat.head()\n"
   ]
  },
  {
   "cell_type": "markdown",
   "metadata": {},
   "source": [
    "<em>Letf join</em>\n"
   ]
  },
  {
   "cell_type": "code",
   "execution_count": 2,
   "metadata": {},
   "outputs": [
    {
     "name": "stdout",
     "output_type": "stream",
     "text": [
      "   employe_id      nom  departement_id\n",
      "0           1    Alice             101\n",
      "1           2      Bob             102\n",
      "2           3  Charlie             101\n",
      "3           4    David             103\n",
      "   departement_id nom_departement\n",
      "0             101          Ventes\n",
      "1             102       Marketing\n",
      "2             104    Comptabilité\n",
      "   employe_id      nom  departement_id nom_departement\n",
      "0           1    Alice             101          Ventes\n",
      "1           2      Bob             102       Marketing\n",
      "2           3  Charlie             101          Ventes\n",
      "3           4    David             103             NaN\n"
     ]
    }
   ],
   "source": [
    "import pandas as pd\n",
    "\n",
    "# Création du premier DataFrame 'employes'\n",
    "employes = pd.DataFrame({\n",
    "    'employe_id': [1, 2, 3, 4],\n",
    "    'nom': ['Alice', 'Bob', 'Charlie', 'David'],\n",
    "    'departement_id': [101, 102, 101, 103]\n",
    "})\n",
    "print(employes)\n",
    "# Création du deuxième DataFrame 'departements'\n",
    "departements = pd.DataFrame({\n",
    "    'departement_id': [101, 102, 104],\n",
    "    'nom_departement': ['Ventes', 'Marketing', 'Comptabilité']\n",
    "})\n",
    "print(departements)\n",
    "# Effectuer un Left Join sur la colonne 'departement_id'\n",
    "resultat = pd.merge(employes, departements, on='departement_id', how='left')\n",
    "\n",
    "print(resultat)\n"
   ]
  },
  {
   "cell_type": "markdown",
   "metadata": {},
   "source": [
    "<em>right join</em>"
   ]
  },
  {
   "cell_type": "code",
   "execution_count": 3,
   "metadata": {},
   "outputs": [
    {
     "name": "stdout",
     "output_type": "stream",
     "text": [
      "   employe_id      nom  departement_id\n",
      "0           1    Alice             101\n",
      "1           2      Bob             102\n",
      "2           3  Charlie             101\n",
      "3           4    David             103\n",
      "   departement_id nom_departement\n",
      "0             101          Ventes\n",
      "1             102       Marketing\n",
      "2             104    Comptabilité\n",
      "   employe_id      nom  departement_id nom_departement\n",
      "0         1.0    Alice             101          Ventes\n",
      "1         3.0  Charlie             101          Ventes\n",
      "2         2.0      Bob             102       Marketing\n",
      "3         NaN      NaN             104    Comptabilité\n"
     ]
    }
   ],
   "source": [
    "import pandas as pd\n",
    "\n",
    "# Création du premier DataFrame 'employes'\n",
    "employes = pd.DataFrame({\n",
    "    'employe_id': [1, 2, 3, 4],\n",
    "    'nom': ['Alice', 'Bob', 'Charlie', 'David'],\n",
    "    'departement_id': [101, 102, 101, 103]\n",
    "})\n",
    "print(employes)\n",
    "# Création du deuxième DataFrame 'departements'\n",
    "departements = pd.DataFrame({\n",
    "    'departement_id': [101, 102, 104],\n",
    "    'nom_departement': ['Ventes', 'Marketing', 'Comptabilité']\n",
    "})\n",
    "print(departements)\n",
    "# Effectuer un Right Join sur la colonne 'departement_id'\n",
    "resultat = pd.merge(employes, departements, on='departement_id', how='right')\n",
    "\n",
    "print(resultat)\n"
   ]
  },
  {
   "cell_type": "markdown",
   "metadata": {},
   "source": [
    "<em>full join</em>"
   ]
  },
  {
   "cell_type": "code",
   "execution_count": 5,
   "metadata": {},
   "outputs": [
    {
     "name": "stdout",
     "output_type": "stream",
     "text": [
      "   employe_id      nom  departement_id\n",
      "0           1    Alice             101\n",
      "1           2      Bob             102\n",
      "2           3  Charlie             101\n",
      "3           4    David             103\n",
      "   departement_id nom_departement\n",
      "0             101          Ventes\n",
      "1             102       Marketing\n",
      "2             104    Comptabilité\n",
      "   employe_id      nom  departement_id nom_departement\n",
      "0         1.0    Alice             101          Ventes\n",
      "1         3.0  Charlie             101          Ventes\n",
      "2         2.0      Bob             102       Marketing\n",
      "3         4.0    David             103             NaN\n",
      "4         NaN      NaN             104    Comptabilité\n"
     ]
    }
   ],
   "source": [
    "import pandas as pd\n",
    "\n",
    "# Création du premier DataFrame 'employes'\n",
    "employes = pd.DataFrame({\n",
    "    'employe_id': [1, 2, 3, 4],\n",
    "    'nom': ['Alice', 'Bob', 'Charlie', 'David'],\n",
    "    'departement_id': [101, 102, 101, 103]\n",
    "})\n",
    "print(employes)\n",
    "# Création du deuxième DataFrame 'departements'\n",
    "departements = pd.DataFrame({\n",
    "    'departement_id': [101, 102, 104],\n",
    "    'nom_departement': ['Ventes', 'Marketing', 'Comptabilité']\n",
    "})\n",
    "print(departements)\n",
    "# Left Join\n",
    "resultat = pd.merge(employes, departements, on='departement_id', how='outer')\n",
    "\n",
    "\n",
    "\n",
    "print(resultat)\n"
   ]
  },
  {
   "cell_type": "markdown",
   "metadata": {},
   "source": [
    "<h4>Concaténation</h4>"
   ]
  },
  {
   "cell_type": "markdown",
   "metadata": {},
   "source": [
    "<p>\n",
    "    En analyse de données, la concaténation de deux tables signifie simplement la fusion ou la combinaison de ces deux tables en une seule table. Cela se fait généralement en empilant les lignes de la deuxième table en dessous de celles de la première, ou en ajoutant les colonnes de la deuxième table à la droite de celles de la première. <br> La concaténation peut se faire selon deux axes principaux :\n",
    "</p>"
   ]
  },
  {
   "cell_type": "markdown",
   "metadata": {},
   "source": [
    "<ul>\n",
    "    <li>\n",
    "        <em>La concaténation horizontale (ou l'empilement de colonnes) </em>\n",
    "        <p>\n",
    "        Dans ce cas, les données sont combinées en ajoutant de nouvelles colonnes à droite ou à gauche des colonnes existantes. Cela peut être utile lorsque vous avez des ensembles de données avec les mêmes lignes (observations), mais des attributs différents.\n",
    "        </p>\n",
    "    </li>\n",
    "    <li>\n",
    "        <em>La concaténation verticale (ou l'empilement de lignes) </em>\n",
    "        <p>\n",
    "        Ici, les données sont combinées en ajoutant de nouvelles lignes en bas ou en haut des lignes existantes. Cela est utile lorsque vous avez des ensembles de données avec les mêmes attributs, mais des observations différentes.\n",
    "        </p>\n",
    "    </li>\n",
    "</ul>"
   ]
  },
  {
   "cell_type": "markdown",
   "metadata": {},
   "source": [
    "<h5>Comment effectuer la jointure</h5>"
   ]
  },
  {
   "cell_type": "markdown",
   "metadata": {},
   "source": [
    "<p>La fonction concat de pandas est très utilisée pour effectuer la concaténation, voici ces paramètre</p>"
   ]
  },
  {
   "cell_type": "markdown",
   "metadata": {},
   "source": [
    "<ul>\n",
    "    <li>\n",
    "        <em>objs</em>\n",
    "        <p>C'est l'objet principal que vous souhaitez concaténer. Cela peut être une liste de DataFrames, Series, ou un dictionnaire de ces objets.</p>\n",
    "    </li>\n",
    "    <li>\n",
    "        <em>axis</em>\n",
    "        <p>Cela spécifie l'axe le long duquel la concaténation doit se produire. Par défaut, c'est 0 (concaténation verticale), mais vous pouvez utiliser 1 pour une concaténation horizontale.</p>\n",
    "    </li>\n",
    "    <li>\n",
    "        <em>join</em>\n",
    "        <p>\n",
    "        Cela détermine le type de jointure à effectuer lors de la concaténation. Les options incluent 'inner' (intersection) et 'outer' (union).\n",
    "        </p>\n",
    "    </li>\n",
    "    <li>\n",
    "        <em>ignore_index </em>\n",
    "        <p>Si True, les index sont réinitialisés après la concaténation. Par défaut, c'est False.</p>\n",
    "    </li>\n",
    "</ul>\n",
    "<p>Dépendant de la problématique il y a plusieurs paramètre que vous passer</p>"
   ]
  },
  {
   "cell_type": "markdown",
   "metadata": {},
   "source": [
    "<em>Concaténation veritcale</em>"
   ]
  },
  {
   "cell_type": "code",
   "execution_count": 9,
   "metadata": {},
   "outputs": [
    {
     "data": {
      "text/html": [
       "<div>\n",
       "<style scoped>\n",
       "    .dataframe tbody tr th:only-of-type {\n",
       "        vertical-align: middle;\n",
       "    }\n",
       "\n",
       "    .dataframe tbody tr th {\n",
       "        vertical-align: top;\n",
       "    }\n",
       "\n",
       "    .dataframe thead th {\n",
       "        text-align: right;\n",
       "    }\n",
       "</style>\n",
       "<table border=\"1\" class=\"dataframe\">\n",
       "  <thead>\n",
       "    <tr style=\"text-align: right;\">\n",
       "      <th></th>\n",
       "      <th>Date</th>\n",
       "      <th>Produit</th>\n",
       "      <th>Quantite</th>\n",
       "      <th>Prix_Unitaire</th>\n",
       "    </tr>\n",
       "  </thead>\n",
       "  <tbody>\n",
       "    <tr>\n",
       "      <th>0</th>\n",
       "      <td>2023-09-01</td>\n",
       "      <td>Produit A</td>\n",
       "      <td>50</td>\n",
       "      <td>10</td>\n",
       "    </tr>\n",
       "    <tr>\n",
       "      <th>1</th>\n",
       "      <td>2023-09-02</td>\n",
       "      <td>Produit B</td>\n",
       "      <td>30</td>\n",
       "      <td>15</td>\n",
       "    </tr>\n",
       "    <tr>\n",
       "      <th>2</th>\n",
       "      <td>2023-09-03</td>\n",
       "      <td>Produit A</td>\n",
       "      <td>40</td>\n",
       "      <td>12</td>\n",
       "    </tr>\n",
       "    <tr>\n",
       "      <th>0</th>\n",
       "      <td>2023-09-01</td>\n",
       "      <td>Produit A</td>\n",
       "      <td>60</td>\n",
       "      <td>9</td>\n",
       "    </tr>\n",
       "    <tr>\n",
       "      <th>1</th>\n",
       "      <td>2023-09-02</td>\n",
       "      <td>Produit B</td>\n",
       "      <td>20</td>\n",
       "      <td>16</td>\n",
       "    </tr>\n",
       "    <tr>\n",
       "      <th>2</th>\n",
       "      <td>2023-09-03</td>\n",
       "      <td>Produit B</td>\n",
       "      <td>35</td>\n",
       "      <td>11</td>\n",
       "    </tr>\n",
       "  </tbody>\n",
       "</table>\n",
       "</div>"
      ],
      "text/plain": [
       "         Date    Produit  Quantite  Prix_Unitaire\n",
       "0  2023-09-01  Produit A        50             10\n",
       "1  2023-09-02  Produit B        30             15\n",
       "2  2023-09-03  Produit A        40             12\n",
       "0  2023-09-01  Produit A        60              9\n",
       "1  2023-09-02  Produit B        20             16\n",
       "2  2023-09-03  Produit B        35             11"
      ]
     },
     "execution_count": 9,
     "metadata": {},
     "output_type": "execute_result"
    }
   ],
   "source": [
    "import pandas as pd\n",
    "\n",
    "# Création des données de ventes pour le bureau 1\n",
    "ventes_bureau1 = pd.DataFrame({\n",
    "    'Date': ['2023-09-01', '2023-09-02', '2023-09-03'],\n",
    "    'Produit': ['Produit A', 'Produit B', 'Produit A'],\n",
    "    'Quantite': [50, 30, 40],\n",
    "    'Prix_Unitaire': [10, 15, 12]\n",
    "})\n",
    "\n",
    "# Création des données de ventes pour le bureau 2\n",
    "ventes_bureau2 = pd.DataFrame({\n",
    "    'Date': ['2023-09-01', '2023-09-02', '2023-09-03'],\n",
    "    'Produit': ['Produit A', 'Produit B', 'Produit B'],\n",
    "    'Quantite': [60, 20, 35],\n",
    "    'Prix_Unitaire': [9, 16, 11]\n",
    "})\n",
    "\n",
    "ventes_globales = pd.concat([ventes_bureau1, ventes_bureau2], axis=0, ignore_index= False)\n",
    "ventes_globales"
   ]
  },
  {
   "cell_type": "markdown",
   "metadata": {},
   "source": [
    "<em>Concaténation horizontale</em>"
   ]
  },
  {
   "cell_type": "code",
   "execution_count": 14,
   "metadata": {},
   "outputs": [
    {
     "data": {
      "text/html": [
       "<div>\n",
       "<style scoped>\n",
       "    .dataframe tbody tr th:only-of-type {\n",
       "        vertical-align: middle;\n",
       "    }\n",
       "\n",
       "    .dataframe tbody tr th {\n",
       "        vertical-align: top;\n",
       "    }\n",
       "\n",
       "    .dataframe thead tr th {\n",
       "        text-align: left;\n",
       "    }\n",
       "</style>\n",
       "<table border=\"1\" class=\"dataframe\">\n",
       "  <thead>\n",
       "    <tr>\n",
       "      <th></th>\n",
       "      <th colspan=\"4\" halign=\"left\">Produit</th>\n",
       "    </tr>\n",
       "    <tr>\n",
       "      <th></th>\n",
       "      <th>Date</th>\n",
       "      <th>Produit</th>\n",
       "      <th>Quantite</th>\n",
       "      <th>Prix_Unitaire</th>\n",
       "    </tr>\n",
       "  </thead>\n",
       "  <tbody>\n",
       "    <tr>\n",
       "      <th>0</th>\n",
       "      <td>2023-09-01</td>\n",
       "      <td>Produit A</td>\n",
       "      <td>50</td>\n",
       "      <td>10</td>\n",
       "    </tr>\n",
       "    <tr>\n",
       "      <th>1</th>\n",
       "      <td>2023-09-02</td>\n",
       "      <td>Produit B</td>\n",
       "      <td>30</td>\n",
       "      <td>15</td>\n",
       "    </tr>\n",
       "    <tr>\n",
       "      <th>2</th>\n",
       "      <td>2023-09-03</td>\n",
       "      <td>Produit A</td>\n",
       "      <td>40</td>\n",
       "      <td>12</td>\n",
       "    </tr>\n",
       "  </tbody>\n",
       "</table>\n",
       "</div>"
      ],
      "text/plain": [
       "      Produit                                  \n",
       "         Date    Produit Quantite Prix_Unitaire\n",
       "0  2023-09-01  Produit A       50            10\n",
       "1  2023-09-02  Produit B       30            15\n",
       "2  2023-09-03  Produit A       40            12"
      ]
     },
     "execution_count": 14,
     "metadata": {},
     "output_type": "execute_result"
    }
   ],
   "source": [
    "import pandas as pd\n",
    "\n",
    "# Création des données de ventes pour le bureau 1\n",
    "ventes_bureau1 = pd.DataFrame({\n",
    "    'Date': ['2023-09-01', '2023-09-02', '2023-09-03'],\n",
    "    'Produit': ['Produit A', 'Produit B', 'Produit A'],\n",
    "    'Quantite': [50, 30, 40],\n",
    "    'Prix_Unitaire': [10, 15, 12]\n",
    "})\n",
    "\n",
    "# Création des données de ventes pour le bureau 2\n",
    "ventes_bureau2 = pd.DataFrame({\n",
    "    'Date': ['2023-09-01', '2023-09-02', '2023-09-03'],\n",
    "    'Produit': ['Produit A', 'Produit B', 'Produit B'],\n",
    "    'Quantite': [60, 20, 35],\n",
    "    'Prix_Unitaire': [9, 16, 11]\n",
    "})\n",
    "\n",
    "ventes_globales = pd.concat([ventes_bureau1, ventes_bureau2], axis=1, join = \"inner\", keys=[\"Produit\"])\n",
    "ventes_globales"
   ]
  },
  {
   "cell_type": "markdown",
   "metadata": {},
   "source": [
    "<h4>Reshaping de données</h4>"
   ]
  },
  {
   "cell_type": "markdown",
   "metadata": {},
   "source": [
    "<p>\n",
    "    Le \"reshaping\" (ou réorganisation) de données en analyse de données fait référence au processus de modification de la structure ou de la disposition d'un ensemble de données. Cela permet de présenter les données d'une manière qui les rend plus faciles à analyser, à visualiser et à interpréter. Le \"reshaping\" est essentiel pour mieux comprendre les relations et les tendances cachées dans les données. Cette opération est très importantes dans l'analyse de données dans plusieurs aspect:\n",
    "</p>"
   ]
  },
  {
   "cell_type": "markdown",
   "metadata": {},
   "source": [
    "<ul>\n",
    "    <li>\n",
    "        <em>Facilitation de l'analyse </em>\n",
    "        <p>Une bonne organisation des données simplifie la tâche des analystes et des scientifiques des données pour effectuer des analyses plus approfondies.</p>\n",
    "    </li>\n",
    "    <li>\n",
    "        <em>Amélioration de la visualisation</em>\n",
    "        <p>Les données bien organisées se prêtent mieux à la création de graphiques et de visualisations qui permettent de mettre en évidence des tendances et des modèles.</p>\n",
    "    </li>\n",
    "    <li>\n",
    "        <em>Optimisation de la performance </em>\n",
    "        <p>\n",
    "        Certains algorithmes et analyses sont plus efficaces lorsqu'ils sont appliqués à des données spécifiquement organisées.\n",
    "        </p>\n",
    "    </li>\n",
    "    <li>\n",
    "        <em>Facilitation de la communication  </em>\n",
    "        <p>Des données organisées sont plus faciles à présenter et à expliquer à d'autres parties prenantes ou collègues.</p>\n",
    "    </li>\n",
    "    <li>\n",
    "        <em>Préparation pour la modélisation</em>\n",
    "        <p>Les données bien structurées sont cruciales pour entraîner des modèles d'apprentissage automatique et effectuer des prédictions précises.</p>\n",
    "    </li>\n",
    "</ul>"
   ]
  },
  {
   "cell_type": "markdown",
   "metadata": {},
   "source": [
    "<em>Pivot table</em>"
   ]
  },
  {
   "cell_type": "code",
   "execution_count": 18,
   "metadata": {},
   "outputs": [
    {
     "name": "stdout",
     "output_type": "stream",
     "text": [
      "  Produit     Ville  Quantité vendue\n",
      "0       A     Paris               10\n",
      "1       B  New York               20\n",
      "2       A     Paris               15\n",
      "3       B  New York               25\n",
      "4       A     Paris               30\n",
      "Produit      A     B\n",
      "Ville               \n",
      "New York   NaN  45.0\n",
      "Paris     55.0   NaN\n"
     ]
    }
   ],
   "source": [
    "import pandas as pd\n",
    "\n",
    "# Création du DataFrame\n",
    "data = {'Produit': ['A', 'B', 'A', 'B', 'A'],\n",
    "        'Ville': ['Paris', 'New York', 'Paris', 'New York', 'Paris'],\n",
    "        'Quantité vendue': [10, 20, 15, 25, 30]}\n",
    "df = pd.DataFrame(data)\n",
    "print(df)\n",
    "# Utilisation de pivot_table\n",
    "table = df.pivot_table(values='Quantité vendue', index='Ville', columns='Produit', aggfunc='sum')\n",
    "print(table)\n"
   ]
  },
  {
   "cell_type": "markdown",
   "metadata": {},
   "source": [
    "<em>Melt</em>"
   ]
  },
  {
   "cell_type": "code",
   "execution_count": 19,
   "metadata": {},
   "outputs": [
    {
     "name": "stdout",
     "output_type": "stream",
     "text": [
      "      Mois    Type  Montant\n",
      "0  Janvier  Ventes      100\n",
      "1  Février  Ventes      150\n",
      "2     Mars  Ventes      120\n"
     ]
    }
   ],
   "source": [
    "import pandas as pd\n",
    "\n",
    "# Création du DataFrame\n",
    "data = {'Mois': ['Janvier', 'Février', 'Mars'],\n",
    "        'Ventes': [100, 150, 120]}\n",
    "df = pd.DataFrame(data)\n",
    "\n",
    "# Utilisation de melt\n",
    "melted_df = pd.melt(df, id_vars=['Mois'], value_vars=['Ventes'], var_name='Type', value_name='Montant')\n",
    "print(melted_df)\n"
   ]
  },
  {
   "cell_type": "markdown",
   "metadata": {},
   "source": [
    "<em>Stack et unstack</em>"
   ]
  },
  {
   "cell_type": "code",
   "execution_count": 20,
   "metadata": {},
   "outputs": [
    {
     "name": "stdout",
     "output_type": "stream",
     "text": [
      "Mois     Ville            \n",
      "Janvier  Paris     Ventes     100\n",
      "                   Produit      A\n",
      "         New York  Ventes     150\n",
      "                   Produit      B\n",
      "Février  Paris     Ventes     120\n",
      "                   Produit      A\n",
      "         New York  Ventes     200\n",
      "                   Produit      B\n",
      "Mars     Paris     Ventes     180\n",
      "                   Produit      A\n",
      "         New York  Ventes     160\n",
      "                   Produit      B\n",
      "dtype: object\n",
      "          Ventes        Produit      \n",
      "Ville   New York Paris New York Paris\n",
      "Mois                                 \n",
      "Février      200   120        B     A\n",
      "Janvier      150   100        B     A\n",
      "Mars         160   180        B     A\n"
     ]
    }
   ],
   "source": [
    "import pandas as pd\n",
    "\n",
    "# Création du DataFrame\n",
    "data = {'Ventes': [100, 150, 120, 200, 180, 160],\n",
    "        'Produit': ['A', 'B', 'A', 'B', 'A', 'B']}\n",
    "index = pd.MultiIndex.from_product([['Janvier', 'Février', 'Mars'], ['Paris', 'New York']], \n",
    "                                  names=['Mois', 'Ville'])\n",
    "df = pd.DataFrame(data, index=index)\n",
    "\n",
    "# Utilisation de stack et unstack\n",
    "stacked_df = df.stack()\n",
    "unstacked_df = df.unstack()\n",
    "print(stacked_df)\n",
    "print(unstacked_df)\n"
   ]
  },
  {
   "cell_type": "markdown",
   "metadata": {},
   "source": [
    "<em>crosstab</em>"
   ]
  },
  {
   "cell_type": "code",
   "execution_count": 16,
   "metadata": {},
   "outputs": [
    {
     "name": "stdout",
     "output_type": "stream",
     "text": [
      "  Personne   Fruit\n",
      "0    Alice   Pomme\n",
      "1      Bob  Banane\n",
      "2  Charlie   Pomme\n",
      "3    Alice  Orange\n",
      "4      Bob  Banane\n",
      "5  Charlie   Pomme\n",
      "Fruit     Banane  Orange  Pomme\n",
      "Personne                       \n",
      "Alice          0       1      1\n",
      "Bob            2       0      0\n",
      "Charlie        0       0      2\n"
     ]
    }
   ],
   "source": [
    "import pandas as pd\n",
    "\n",
    "# Création du DataFrame\n",
    "data = {'Personne': ['Alice', 'Bob', 'Charlie', 'Alice', 'Bob', 'Charlie'],\n",
    "        'Fruit': ['Pomme', 'Banane', 'Pomme', 'Orange', 'Banane', 'Pomme']}\n",
    "df = pd.DataFrame(data)\n",
    "print(df)\n",
    "# Utilisation de crosstab\n",
    "table = pd.crosstab(df['Personne'], df['Fruit'])\n",
    "\n",
    "print(table)\n"
   ]
  }
 ],
 "metadata": {
  "kernelspec": {
   "display_name": "dataDibe",
   "language": "python",
   "name": "python3"
  },
  "language_info": {
   "codemirror_mode": {
    "name": "ipython",
    "version": 3
   },
   "file_extension": ".py",
   "mimetype": "text/x-python",
   "name": "python",
   "nbconvert_exporter": "python",
   "pygments_lexer": "ipython3",
   "version": "3.9.13"
  },
  "orig_nbformat": 4
 },
 "nbformat": 4,
 "nbformat_minor": 2
}
