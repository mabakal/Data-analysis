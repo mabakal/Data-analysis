{
 "cells": [
  {
   "cell_type": "markdown",
   "metadata": {},
   "source": [
    "<style>\n",
    "div{\n",
    "    text-align: center;\n",
    "}\n",
    "</style>\n",
    "<div>\n",
    "    <h2>Manipulation de données: Gérer les Dates et Temps avec Pandas</h2>\n",
    "    <h3>BADJO Dibéa koffi</h3>\n",
    "    <p>Scientifique de données et un ingénieur de logiciel</p>\n",
    "</div>\n"
   ]
  },
  {
   "cell_type": "markdown",
   "metadata": {},
   "source": [
    "<p>\n",
    "Dans cette partie nous allons couvrir la <em>conversion de dates</em> si les dates sont importées en tant que chaînes de caractères, il peut être nécessaire de les convertir en objets de date pour pouvoir les manipuler correctement. <em>indexation de Date</em> ce qui facilite les opérations temporelles et les analyses les <em>Opérations Temporelles</em> effectuer des opérations sur les dates, comme le calcul des différences entre dates, l'ajout ou la soustraction de périodes, etc. <em>extraction de Composants Temporels</em>, <em>filtrage par Période</em>\n",
    "\n",
    "</p>\n"
   ]
  },
  {
   "cell_type": "markdown",
   "metadata": {},
   "source": [
    "<h3>Le timestamps</h3>"
   ]
  },
  {
   "cell_type": "markdown",
   "metadata": {},
   "source": [
    "<p>\n",
    "    Un objet Timestamp en Pandas est une instance d'une classe qui représente une date et une heure spécifiques avec une précision allant jusqu'à la nanoseconde. Il est utilisé pour représenter des points de données temporelles individuels.\n",
    "</p>"
   ]
  },
  {
   "cell_type": "markdown",
   "metadata": {},
   "source": [
    "<h4>Creation d'un objet timestamps</h4>"
   ]
  },
  {
   "cell_type": "code",
   "execution_count": 1,
   "metadata": {},
   "outputs": [
    {
     "data": {
      "text/plain": [
       "Timestamp('2021-10-01 00:00:00')"
      ]
     },
     "execution_count": 1,
     "metadata": {},
     "output_type": "execute_result"
    }
   ],
   "source": [
    "import pandas as pd\n",
    "date = pd.Timestamp('2021-10-01')\n",
    "date"
   ]
  },
  {
   "cell_type": "code",
   "execution_count": 2,
   "metadata": {},
   "outputs": [
    {
     "data": {
      "text/plain": [
       "Timestamp('2021-10-01 00:00:00')"
      ]
     },
     "execution_count": 2,
     "metadata": {},
     "output_type": "execute_result"
    }
   ],
   "source": [
    "temps = pd.Timestamp(1633046400000000000)\n",
    "temps"
   ]
  },
  {
   "cell_type": "code",
   "execution_count": 5,
   "metadata": {},
   "outputs": [
    {
     "data": {
      "text/plain": [
       "Timestamp('2021-10-01 14:30:00')"
      ]
     },
     "execution_count": 5,
     "metadata": {},
     "output_type": "execute_result"
    }
   ],
   "source": [
    "import pandas as pd\n",
    "\n",
    "temps2 = pd.Timestamp(2021, 10, 1, 14, 30, 0)\n",
    "temps2"
   ]
  },
  {
   "cell_type": "markdown",
   "metadata": {},
   "source": [
    "<h3>Convertir une chaine de charactère en Date time</h3>"
   ]
  },
  {
   "cell_type": "code",
   "execution_count": 18,
   "metadata": {},
   "outputs": [
    {
     "data": {
      "text/plain": [
       "date        object\n",
       "product     object\n",
       "prix       float64\n",
       "ville       object\n",
       "dtype: object"
      ]
     },
     "execution_count": 18,
     "metadata": {},
     "output_type": "execute_result"
    }
   ],
   "source": [
    "import pandas as pd\n",
    "data = {'date': ['2021-10-01 14:30:00', '2021-10-02 14:35:00', '2021-10-03 00:00:00'],\n",
    "        'product': ['A', 'B', 'C'],\n",
    "        'prix': [10.5, 20.3, 15.8],\n",
    "        'ville': ['Paris', 'New York', 'Berlin']}\n",
    "\n",
    "# Création du DataFrame\n",
    "df = pd.DataFrame(data)\n",
    "df.dtypes\n"
   ]
  },
  {
   "cell_type": "code",
   "execution_count": 22,
   "metadata": {},
   "outputs": [
    {
     "data": {
      "text/plain": [
       "'2021-10-02 14:35:002021-10-03 00:00:00'"
      ]
     },
     "execution_count": 22,
     "metadata": {},
     "output_type": "execute_result"
    }
   ],
   "source": [
    "df[\"date\"][1] +  df[\"date\"][2]"
   ]
  },
  {
   "cell_type": "code",
   "execution_count": 23,
   "metadata": {},
   "outputs": [
    {
     "data": {
      "text/plain": [
       "date                    object\n",
       "product                 object\n",
       "prix                   float64\n",
       "ville                   object\n",
       "date_convert    datetime64[ns]\n",
       "dtype: object"
      ]
     },
     "execution_count": 23,
     "metadata": {},
     "output_type": "execute_result"
    }
   ],
   "source": [
    "df[\"date_convert\"] = pd.to_datetime(df[\"date\"])\n",
    "df.dtypes"
   ]
  },
  {
   "cell_type": "code",
   "execution_count": 24,
   "metadata": {},
   "outputs": [
    {
     "data": {
      "text/html": [
       "<div>\n",
       "<style scoped>\n",
       "    .dataframe tbody tr th:only-of-type {\n",
       "        vertical-align: middle;\n",
       "    }\n",
       "\n",
       "    .dataframe tbody tr th {\n",
       "        vertical-align: top;\n",
       "    }\n",
       "\n",
       "    .dataframe thead th {\n",
       "        text-align: right;\n",
       "    }\n",
       "</style>\n",
       "<table border=\"1\" class=\"dataframe\">\n",
       "  <thead>\n",
       "    <tr style=\"text-align: right;\">\n",
       "      <th></th>\n",
       "      <th>date</th>\n",
       "      <th>product</th>\n",
       "      <th>prix</th>\n",
       "      <th>ville</th>\n",
       "      <th>date_convert</th>\n",
       "    </tr>\n",
       "  </thead>\n",
       "  <tbody>\n",
       "    <tr>\n",
       "      <th>0</th>\n",
       "      <td>2021-10-01 14:30:00</td>\n",
       "      <td>A</td>\n",
       "      <td>10.5</td>\n",
       "      <td>Paris</td>\n",
       "      <td>2021-10-01 14:30:00</td>\n",
       "    </tr>\n",
       "    <tr>\n",
       "      <th>1</th>\n",
       "      <td>2021-10-02 14:35:00</td>\n",
       "      <td>B</td>\n",
       "      <td>20.3</td>\n",
       "      <td>New York</td>\n",
       "      <td>2021-10-02 14:35:00</td>\n",
       "    </tr>\n",
       "    <tr>\n",
       "      <th>2</th>\n",
       "      <td>2021-10-03 00:00:00</td>\n",
       "      <td>C</td>\n",
       "      <td>15.8</td>\n",
       "      <td>Berlin</td>\n",
       "      <td>2021-10-03 00:00:00</td>\n",
       "    </tr>\n",
       "  </tbody>\n",
       "</table>\n",
       "</div>"
      ],
      "text/plain": [
       "                  date product  prix     ville        date_convert\n",
       "0  2021-10-01 14:30:00       A  10.5     Paris 2021-10-01 14:30:00\n",
       "1  2021-10-02 14:35:00       B  20.3  New York 2021-10-02 14:35:00\n",
       "2  2021-10-03 00:00:00       C  15.8    Berlin 2021-10-03 00:00:00"
      ]
     },
     "execution_count": 24,
     "metadata": {},
     "output_type": "execute_result"
    }
   ],
   "source": [
    "df"
   ]
  },
  {
   "cell_type": "markdown",
   "metadata": {},
   "source": [
    "<h4>Comparaisons temporailles</h4>"
   ]
  },
  {
   "cell_type": "code",
   "execution_count": 30,
   "metadata": {},
   "outputs": [
    {
     "name": "stdout",
     "output_type": "stream",
     "text": [
      "timestamp1 est plus tôt que timestamp2\n"
     ]
    }
   ],
   "source": [
    "timestamp1 = pd.Timestamp('2021-10-01')\n",
    "timestamp2 = pd.Timestamp('2021-10-02')\n",
    "\n",
    "if timestamp1 < timestamp2:\n",
    "    print(\"timestamp1 est plus tôt que timestamp2\")\n"
   ]
  },
  {
   "cell_type": "markdown",
   "metadata": {},
   "source": [
    "<h4>Extraction de composante temporelles</h4>"
   ]
  },
  {
   "cell_type": "code",
   "execution_count": 45,
   "metadata": {},
   "outputs": [
    {
     "name": "stdout",
     "output_type": "stream",
     "text": [
      "1\n",
      "2021\n",
      "10\n",
      "2021-10-01 00:00:00+02:00\n",
      "2021-10-01 00:00:00-04:00\n"
     ]
    }
   ],
   "source": [
    "print(timestamp1.day)\n",
    "print(timestamp1.year)\n",
    "print(timestamp1.month)"
   ]
  }
 ],
 "metadata": {
  "kernelspec": {
   "display_name": "dataDibe",
   "language": "python",
   "name": "python3"
  },
  "language_info": {
   "codemirror_mode": {
    "name": "ipython",
    "version": 3
   },
   "file_extension": ".py",
   "mimetype": "text/x-python",
   "name": "python",
   "nbconvert_exporter": "python",
   "pygments_lexer": "ipython3",
   "version": "3.9.13"
  },
  "orig_nbformat": 4
 },
 "nbformat": 4,
 "nbformat_minor": 2
}
