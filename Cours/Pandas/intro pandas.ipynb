{
 "cells": [
  {
   "cell_type": "markdown",
   "metadata": {},
   "source": [
    "<style>\n",
    "div{\n",
    "    text-align: center;\n",
    "}\n",
    "</style>\n",
    "<div>\n",
    "    <h2>Introduction de Pandas</h2>\n",
    "    <h3>BADJO Dibéa koffi</h3>\n",
    "    <p>Scientifique de données et un ingénieur de logiciel</p>\n",
    "</div>"
   ]
  },
  {
   "cell_type": "markdown",
   "metadata": {},
   "source": [
    "<p>\n",
    "Pandas est une bibliothèque open-source très populaire en Python qui offre des structures de données et des outils d'analyse de données faciles à utiliser. Elle est particulièrement adaptée pour la manipulation et l'analyse de données tabulaires et les séries temporelles.\n",
    "</p>"
   ]
  },
  {
   "cell_type": "markdown",
   "metadata": {},
   "source": [
    "<h4>Structure de données en pandas</h4>"
   ]
  },
  {
   "cell_type": "markdown",
   "metadata": {},
   "source": [
    "<ul>\n",
    "    <li>\n",
    "        <em>Series</em>\n",
    "        <p>\n",
    "            Ce sont des tableaux unidimensionnels étiquetés qui peuvent contenir n'importe quel type de données.\n",
    "        </p>\n",
    "    </li>\n",
    "    <li>\n",
    "        <em>DataFrame</em>\n",
    "        <p>\n",
    "            Ce sont des tableaux bidimensionnels qui ressemblent à une feuille de calcul ou à une table de base de données. Ils sont composés de lignes et de colonnes et peuvent stocker différents types de données.\n",
    "        </p>\n",
    "    </li>\n",
    "</ul>"
   ]
  },
  {
   "cell_type": "markdown",
   "metadata": {},
   "source": [
    "<h4>Manipulations de données</h4>"
   ]
  },
  {
   "cell_type": "markdown",
   "metadata": {},
   "source": [
    "<p>\n",
    "    Pandas offre une grande variété de méthodes pour effectuer des opérations de manipulation de données, telles que le filtrage, le tri, le regroupement, la fusion, etc.\n",
    "</p>"
   ]
  },
  {
   "cell_type": "markdown",
   "metadata": {},
   "source": [
    "<h4>Lectures et écritures de données</h4>"
   ]
  },
  {
   "cell_type": "markdown",
   "metadata": {},
   "source": [
    "<p>\n",
    "    Pandas permet de lire et d'écrire des données à partir de divers formats de fichiers, tels que CSV, Excel, JSON, SQL, HDF5, etc.\n",
    "</p>"
   ]
  },
  {
   "cell_type": "markdown",
   "metadata": {},
   "source": [
    "<h4>Fonctions d'aggrégation</h4>"
   ]
  },
  {
   "cell_type": "markdown",
   "metadata": {},
   "source": [
    "<p>\n",
    "    Pandas propose des fonctions pour effectuer des opérations d'agrégation sur les données, telles que la somme, la moyenne, le comptage, etc.\n",
    "</p>"
   ]
  },
  {
   "cell_type": "markdown",
   "metadata": {},
   "source": [
    "<h4>Intégration avec d'autres bibliothèques </h4>"
   ]
  },
  {
   "cell_type": "markdown",
   "metadata": {},
   "source": [
    "<p>\n",
    "    Pandas s'intègre bien avec d'autres bibliothèques Python comme NumPy, Matplotlib, et scikit-learn, ce qui en fait un outil essentiel dans l'écosystème Python pour l'analyse de données.\n",
    "</p>"
   ]
  },
  {
   "cell_type": "markdown",
   "metadata": {},
   "source": [
    "<h4>Installation python</h4>"
   ]
  },
  {
   "cell_type": "markdown",
   "metadata": {},
   "source": [
    "<ul>\n",
    "    <li>\n",
    "        <h4>En utilisant pip</h4>\n",
    "        <em>pip install pandas</em>\n",
    "    </li>\n",
    "    <li>\n",
    "        <h4>Ananconda</h4>\n",
    "        <em>conda install -c anaconda pandas</em>\n",
    "    </li>\n",
    "<ul>"
   ]
  },
  {
   "cell_type": "markdown",
   "metadata": {},
   "source": [
    "<h4>Importation de pandas</h4>"
   ]
  },
  {
   "cell_type": "code",
   "execution_count": 1,
   "metadata": {},
   "outputs": [
    {
     "name": "stdout",
     "output_type": "stream",
     "text": [
      "1.4.4\n"
     ]
    }
   ],
   "source": [
    "import pandas as pd # Importation\n",
    "print(pd.__version__)\n"
   ]
  },
  {
   "cell_type": "markdown",
   "metadata": {},
   "source": [
    "<h4>Introduction au objets Pandas</h4>"
   ]
  },
  {
   "cell_type": "markdown",
   "metadata": {},
   "source": [
    "<ul>\n",
    "    <li>\n",
    "        <em>Line<em>\n",
    "        <p>\n",
    "        Une ligne en Pandas fait référence à un enregistrement individuel dans un DataFrame. Elle représente une observation spécifique ou une entrée unique dans un jeu de données.\n",
    "        </p>\n",
    "    </li>\n",
    "    <li>\n",
    "        <em>Colonnes<em>\n",
    "        <p>\n",
    "        En Pandas, une colonne représente une seule dimension de données dans un DataFrame. Chaque colonne est étiquetée avec un nom qui identifie de manière unique cette caractéristique particulière des données.\n",
    "        </p>\n",
    "    </li>\n",
    "    <li>\n",
    "        <em>Indices<em>\n",
    "        <p>\n",
    "        En Pandas, un indice (index en anglais) est une structure qui identifie de manière unique chaque ligne d'un DataFrame. Il joue un rôle crucial dans la manipulation et l'organisation des données.\n",
    "        L'indice est généralement une séquence de nombres entiers qui commence souvent à zéro, mais il peut aussi être constitué de valeurs de n'importe quel type (entiers, chaînes de caractères, dates, etc.). L'indice permet d'accéder rapidement à une ligne spécifique dans un DataFrame.\n",
    "        </p>\n",
    "    </li>\n",
    "</ul>"
   ]
  },
  {
   "cell_type": "code",
   "execution_count": 8,
   "metadata": {},
   "outputs": [
    {
     "name": "stdout",
     "output_type": "stream",
     "text": [
      "       Nom  Âge  Salaire\n",
      "0    Alice   30    50000\n",
      "1      Bob   35    60000\n",
      "2  Charlie   25    45000\n",
      "3    David   40    70000\n",
      "4  Eugenie   28    55000\n"
     ]
    }
   ],
   "source": [
    "import pandas as pd\n",
    "\n",
    "# Création des données\n",
    "donnees = {'Nom': ['Alice', 'Bob', 'Charlie', 'David', 'Eugenie'],\n",
    "           'Âge': [30, 35, 25, 40, 28],\n",
    "           'Salaire': [50000, 60000, 45000, 70000, 55000]}\n",
    "\n",
    "# Création du DataFrame\n",
    "df = pd.DataFrame(donnees)\n",
    "\n",
    "# Affichage du DataFrame\n",
    "print(df)"
   ]
  },
  {
   "cell_type": "markdown",
   "metadata": {},
   "source": [
    "<h5>Series</h5>"
   ]
  },
  {
   "cell_type": "markdown",
   "metadata": {},
   "source": [
    "<p>\n",
    "    Une série (ou \"Series\" en anglais) est l'une des structures de données principales fournies par la bibliothèque Pandas. Elle peut être considérée comme un tableau unidimensionnel qui peut contenir n'importe quel type de données (entiers, flottants, chaînes de caractères, etc.)\n",
    "</p>"
   ]
  },
  {
   "cell_type": "markdown",
   "metadata": {},
   "source": [
    "<h5>Creation d'une series</h5>"
   ]
  },
  {
   "cell_type": "markdown",
   "metadata": {},
   "source": [
    "<p>Il existe plusieurs façons de créer une série en utilisant la bibliothèque Pandas.</p>"
   ]
  },
  {
   "cell_type": "markdown",
   "metadata": {},
   "source": [
    "<em>A partir d'une liste</em>"
   ]
  },
  {
   "cell_type": "code",
   "execution_count": 3,
   "metadata": {},
   "outputs": [
    {
     "name": "stdout",
     "output_type": "stream",
     "text": [
      "0    1\n",
      "1    2\n",
      "2    3\n",
      "3    4\n",
      "4    5\n",
      "dtype: int64\n"
     ]
    }
   ],
   "source": [
    "\n",
    "import pandas as pd\n",
    "data_list = [1, 2, 3, 4, 5]\n",
    "serie_list = pd.Series(data_list)\n",
    "print(serie_list)\n"
   ]
  },
  {
   "cell_type": "markdown",
   "metadata": {},
   "source": [
    "<em>A partir d'un array numpy</em>\n"
   ]
  },
  {
   "cell_type": "code",
   "execution_count": 4,
   "metadata": {},
   "outputs": [
    {
     "name": "stdout",
     "output_type": "stream",
     "text": [
      "0    1\n",
      "1    2\n",
      "2    3\n",
      "3    4\n",
      "4    5\n",
      "dtype: int64\n"
     ]
    }
   ],
   "source": [
    "\n",
    "import numpy as np\n",
    "data_array = np.array([1, 2, 3, 4, 5])\n",
    "serie_array = pd.Series(data_array)\n",
    "print(serie_array)"
   ]
  },
  {
   "cell_type": "markdown",
   "metadata": {},
   "source": [
    "<em>A partir d'un dictionnaire</em>"
   ]
  },
  {
   "cell_type": "code",
   "execution_count": 7,
   "metadata": {},
   "outputs": [
    {
     "name": "stdout",
     "output_type": "stream",
     "text": [
      "a    1\n",
      "b    5\n",
      "c    3\n",
      "d    4\n",
      "e    5\n",
      "dtype: int64\n"
     ]
    }
   ],
   "source": [
    "import pandas as pd\n",
    "\n",
    "data_dict = {'a': 1, 'b': 5, 'c': 3, 'd': 4, 'e': 5}\n",
    "serie_dict = pd.Series(data_dict)\n",
    "print(serie_dict)"
   ]
  },
  {
   "cell_type": "markdown",
   "metadata": {},
   "source": [
    "<h5>DataFrame</h5>"
   ]
  },
  {
   "cell_type": "markdown",
   "metadata": {},
   "source": [
    "<p>\n",
    "    Plus précisément, un DataFrame se compose de lignes et de colonnes. Chaque colonne représente une caractéristique ou un attribut spécifique, tandis que chaque ligne contient les valeurs associées à ces attributs. Chaque ligne est identifiée par un indice unique.\n",
    "</p>"
   ]
  },
  {
   "cell_type": "code",
   "execution_count": 9,
   "metadata": {},
   "outputs": [
    {
     "name": "stdout",
     "output_type": "stream",
     "text": [
      "       Nom  Âge  Salaire\n",
      "0    Alice   30    50000\n",
      "1      Bob   35    60000\n",
      "2  Charlie   25    45000\n",
      "3    David   40    70000\n",
      "4  Eugenie   28    55000\n"
     ]
    }
   ],
   "source": [
    "print(df)"
   ]
  },
  {
   "cell_type": "markdown",
   "metadata": {},
   "source": [
    "<em>A partir d'un dictionnaire</em>"
   ]
  },
  {
   "cell_type": "code",
   "execution_count": 10,
   "metadata": {},
   "outputs": [
    {
     "name": "stdout",
     "output_type": "stream",
     "text": [
      "       Nom  Âge  Salaire\n",
      "0    Alice   30    50000\n",
      "1      Bob   35    60000\n",
      "2  Charlie   25    45000\n"
     ]
    }
   ],
   "source": [
    "import pandas as pd\n",
    "\n",
    "donnees = [{'Nom': 'Alice', 'Âge': 30, 'Salaire': 50000},\n",
    "          {'Nom': 'Bob', 'Âge': 35, 'Salaire': 60000},\n",
    "          {'Nom': 'Charlie', 'Âge': 25, 'Salaire': 45000}]\n",
    "\n",
    "df = pd.DataFrame(donnees)\n",
    "print(df)"
   ]
  },
  {
   "cell_type": "markdown",
   "metadata": {},
   "source": [
    "<em>À partir d'un dictionnaire de listes </em>"
   ]
  },
  {
   "cell_type": "code",
   "execution_count": 12,
   "metadata": {},
   "outputs": [
    {
     "name": "stdout",
     "output_type": "stream",
     "text": [
      "       Nom  Âge  Salaire\n",
      "0    Alice   30    50000\n",
      "1      Bob   35    60000\n",
      "2  Charlie   25    45000\n"
     ]
    }
   ],
   "source": [
    "import pandas as pd\n",
    "\n",
    "donnees = {'Nom': ['Alice', 'Bob', 'Charlie'],\n",
    "           'Âge': [30, 35, 25],\n",
    "           'Salaire': [50000, 60000, 45000]}\n",
    "\n",
    "df = pd.DataFrame(donnees)\n",
    "print(df)\n"
   ]
  },
  {
   "cell_type": "markdown",
   "metadata": {},
   "source": [
    "<em>À partir d'une liste </em>"
   ]
  },
  {
   "cell_type": "code",
   "execution_count": 13,
   "metadata": {},
   "outputs": [
    {
     "name": "stdout",
     "output_type": "stream",
     "text": [
      "       Nom  Âge  Salaire\n",
      "0    Alice   30    50000\n",
      "1      Bob   35    60000\n",
      "2  Charlie   25    45000\n"
     ]
    }
   ],
   "source": [
    "import pandas as pd\n",
    "\n",
    "donnees = [['Alice', 30, 50000],\n",
    "          ['Bob', 35, 60000],\n",
    "          ['Charlie', 25, 45000]]\n",
    "\n",
    "df = pd.DataFrame(donnees, columns=['Nom', 'Âge', 'Salaire'])\n",
    "print(df)"
   ]
  },
  {
   "cell_type": "markdown",
   "metadata": {},
   "source": [
    "<p>\n",
    "    Vous pouvez créer également un objet pandas en lisant les informations dans un fichier ou en se connectant directement á une base de données en envoyant une requete SQL. \n",
    "</p>"
   ]
  },
  {
   "cell_type": "markdown",
   "metadata": {},
   "source": [
    "<h4>Récupération de données depuis une base de données avec Pandas</h4>\n",
    "<ol>\n",
    "    <li><strong>Installer les bibliothèques nécessaires</strong>:</li>\n",
    "    <p>Assurez-vous d'avoir installé Pandas et SQLAlchemy dans votre environnement Python.</p>\n",
    "    <pre><code>pip install pandas sqlalchemy</code></pre>\n",
    "    <li><strong>Importer les bibliothèques</strong>:</li>\n",
    "    <pre><code>import pandas as pd from sqlalchemy import create_engine</code></pre>\n",
    "    <li><strong>Établir une connexion à la base de données</strong>:</li>\n",
    "    <p>Utilisez la fonction <code>create_engine</code> pour créer une connexion à votre base de données. Remplacez <code>URL_DE_LA_BASE_DE_DONNÉES</code> par l'URL de connexion spécifique à votre base de données.</p>\n",
    "    <pre><code>engine = create_engine('URL_DE_LA_BASE_DE_DONNÉES')</code></pre>\n",
    "    <li><strong>Exécuter une requête SQL</strong>:</li>\n",
    "    <p>Utilisez la fonction <code>pd.read_sql_query</code> pour exécuter une requête SQL et récupérer les données dans un DataFrame Pandas. Remplacez <code>VOTRE_REQUÊTE_SQL</code> par la requête SQL que vous souhaitez exécuter.</p>\n",
    "    <pre><code>df = pd.read_sql_query('VOTRE_REQUÊTE_SQL', engine)</code></pre>\n",
    "    <li><strong>Manipuler les données avec Pandas</strong>:</li>\n",
    "    <p>Vous pouvez maintenant utiliser les fonctionnalités de Pandas pour effectuer diverses opérations de manipulation de données sur le DataFrame <code>df</code>.</p>\n",
    "    <li><strong>Fermer la connexion</strong> (si nécessaire):</li>\n",
    "    <p>N'oubliez pas de fermer la connexion à la base de données une fois que vous avez terminé.</p>\n",
    "    <pre><code>engine.dispose()</code></pre>\n",
    "</ol>\n",
    "\n"
   ]
  }
 ],
 "metadata": {
  "kernelspec": {
   "display_name": "dataDibe",
   "language": "python",
   "name": "python3"
  },
  "language_info": {
   "codemirror_mode": {
    "name": "ipython",
    "version": 3
   },
   "file_extension": ".py",
   "mimetype": "text/x-python",
   "name": "python",
   "nbconvert_exporter": "python",
   "pygments_lexer": "ipython3",
   "version": "3.9.13"
  },
  "orig_nbformat": 4
 },
 "nbformat": 4,
 "nbformat_minor": 2
}
