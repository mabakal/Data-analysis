{
 "cells": [
  {
   "cell_type": "markdown",
   "metadata": {},
   "source": [
    "<h2>Fonction d'aggrégation</h2>"
   ]
  },
  {
   "cell_type": "markdown",
   "metadata": {},
   "source": [
    "\n",
    "Une **fonction d'agrégation** est une fonction qui prend plusieurs valeurs en entrée et retourne une seule valeur qui résume ou agrège les données. Ces fonctions sont utilisées pour obtenir des résumés statistiques ou des mesures synthétiques à partir d'un ensemble de données.\n",
    "\n",
    "Voici quelques exemples courants de fonctions d'agrégation :\n",
    "\n",
    "1. **Somme** : Cette fonction agrège les valeurs en additionnant toutes les valeurs de l'ensemble de données.\n",
    "\n",
    "2. **Moyenne** : Calcule la moyenne des valeurs de l'ensemble de données.\n",
    "\n",
    "3. **Médiane** : Identifie la valeur médiane de l'ensemble de données, c'est-à-dire la valeur qui se trouve au milieu lorsqu'elles sont triées.\n",
    "\n",
    "4. **Minimum et Maximum** : Retourne respectivement la plus petite et la plus grande valeur de l'ensemble de données.\n",
    "\n",
    "5. **Écart-type** : Calcule la dispersion des valeurs par rapport à la moyenne.\n",
    "\n",
    "6. **Variance** : Mesure la variabilité des données.\n",
    "\n",
    "7. **Comptage** : Compte le nombre total d'observations dans l'ensemble de données.\n",
    "\n",
    "8. **Mode** : Identifie la valeur la plus fréquemment observée.\n",
    "\n",
    "9. **Écart interquartile** : Mesure l'écart entre le premier quartile et le troisième quartile de l'ensemble de données.\n",
    "\n",
    "10. **Produit** : Multiplie toutes les valeurs de l'ensemble de données.\n",
    "\n",
    "11. **Équivalent de l'agrégation de texte** : Par exemple, concaténer des chaînes de caractères ou trouver la plus longue chaîne."
   ]
  },
  {
   "cell_type": "markdown",
   "metadata": {},
   "source": [
    "<h4>Comment appliquer les fonctions d'aggrégation?</h4>"
   ]
  },
  {
   "cell_type": "markdown",
   "metadata": {},
   "source": [
    "<ul>\n",
    "    <li>\n",
    "        <em>Sélectionner vos données</em>\n",
    "        <p>Imaginez que vous ayez une grande feuille de calcul avec beaucoup d'informations. Vous pouvez utiliser une fonction pour trouver et travailler uniquement avec les parties qui vous intéressent.</p>\n",
    "    </li>\n",
    "    <li>\n",
    "        <em>Appliquer la fonction</em>\n",
    "        <p> Vous pouvez demander à la fonction de faire des choses comme calculer des moyennes, compter des occurrences, ou même créer de nouveaux tableaux à partir de vos données existantes.</p>\n",
    "    </li>\n",
    "     <li>\n",
    "        <em>Voir le résultat</em>\n",
    "        <p>Une fois que vous avez utilisé la fonction, elle vous renverra les résultats de l'opération que vous lui avez demandée.</p>\n",
    "    </li>\n",
    "</ul>"
   ]
  },
  {
   "cell_type": "markdown",
   "metadata": {},
   "source": [
    "<h3>Quelques exemple de fonctions d'aggrégation</h3>"
   ]
  },
  {
   "cell_type": "markdown",
   "metadata": {},
   "source": [
    "<ol>\n",
    "    <li><code>mean()</code> : Calcule la moyenne des valeurs dans un groupe.</li>\n",
    "    <li><code>sum()</code> : Calcule la somme des valeurs dans un groupe.</li>\n",
    "    <li><code>min()</code> : Retourne la valeur minimale dans un groupe.</li>\n",
    "    <li><code>max()</code> : Retourne la valeur maximale dans un groupe.</li>\n",
    "    <li><code>count()</code> : Compte le nombre de valeurs non nulles dans un groupe.</li>\n",
    "    <li><code>median()</code> : Calcule la médiane des valeurs dans un groupe.</li>\n",
    "    <li><code>std()</code> : Calcule l'écart-type des valeurs dans un groupe.</li>\n",
    "    <li><code>var()</code> : Calcule la variance des valeurs dans un groupe.</li>\n",
    "    <li><code>first()</code> : Retourne la première valeur non nulle dans un groupe.</li>\n",
    "    <li><code>last()</code> : Retourne la dernière valeur non nulle dans un groupe.</li>\n",
    "    <li><code>nunique()</code> : Compte le nombre de valeurs uniques dans un groupe.</li>\n",
    "    <li><code>agg()</code> : Permet d'appliquer plusieurs fonctions d'agrégation à la fois.</li>\n",
    "    <li><code>describe()</code> : Génère des statistiques descriptives pour un groupe.</li>\n",
    "    <li><code>quantile(q)</code> : Calcule le quantile spécifié <code>q</code>.</li>\n",
    "    <li><code>idxmin()</code> : Retourne l'indice de la valeur minimale dans un groupe.</li>\n",
    "    <li><code>idxmax()</code> : Retourne l'indice de la valeur maximale dans un groupe.</li>\n",
    "    <li><code>skew()</code> : Calcule l'asymétrie des valeurs dans un groupe.</li>\n",
    "    <li><code>kurt()</code> : Calcule l'aplatissement des valeurs dans un groupe.</li>\n",
    "    <li><code>cumsum()</code> : Calcule la somme cumulée des valeurs dans un groupe.</li>\n",
    "    <li><code>cummin()</code> : Calcule le minimum cumulatif des valeurs dans un groupe.</li>\n",
    "    <li><code>cummax()</code> : Calcule le maximum cumulatif des valeurs dans un groupe.</li>\n",
    "    <li><code>cumprod()</code> : Calcule le produit cumulatif des valeurs dans un groupe.</li>\n",
    "</ol>"
   ]
  },
  {
   "cell_type": "markdown",
   "metadata": {},
   "source": [
    "<h4>La moyenne</h4>"
   ]
  },
  {
   "cell_type": "code",
   "execution_count": 1,
   "metadata": {},
   "outputs": [
    {
     "name": "stdout",
     "output_type": "stream",
     "text": [
      "Moyenne de A : 3.0\n",
      "Moyenne de B : 30.0\n"
     ]
    }
   ],
   "source": [
    "import pandas as pd\n",
    "\n",
    "data = {'A': [1, 2, 3, 4, 5],\n",
    "        'B': [10, 20, 30, 40, 50]}\n",
    "\n",
    "df = pd.DataFrame(data)\n",
    "mean_A = df['A'].mean()\n",
    "mean_B = df['B'].mean()\n",
    "\n",
    "print(f\"Moyenne de A : {mean_A}\")\n",
    "print(f\"Moyenne de B : {mean_B}\")\n"
   ]
  },
  {
   "cell_type": "markdown",
   "metadata": {},
   "source": [
    "<h4>Sommes</h4>"
   ]
  },
  {
   "cell_type": "code",
   "execution_count": 2,
   "metadata": {},
   "outputs": [
    {
     "name": "stdout",
     "output_type": "stream",
     "text": [
      "Somme de A : 15\n",
      "Somme de B : 150\n",
      "A     15\n",
      "B    150\n",
      "dtype: int64\n"
     ]
    }
   ],
   "source": [
    "sum_A = df['A'].sum()\n",
    "sum_B = df['B'].sum()\n",
    "B = df.sum()\n",
    "print(f\"Somme de A : {sum_A}\")\n",
    "print(f\"Somme de B : {sum_B}\")\n",
    "print(B)"
   ]
  },
  {
   "cell_type": "markdown",
   "metadata": {},
   "source": [
    "<h4>Compte</h4>"
   ]
  },
  {
   "cell_type": "code",
   "execution_count": 3,
   "metadata": {},
   "outputs": [
    {
     "name": "stdout",
     "output_type": "stream",
     "text": [
      "Nombre de valeurs non nulles dans A : 5\n",
      "Nombre de valeurs non nulles dans B : 5\n"
     ]
    }
   ],
   "source": [
    "count_A = df['A'].count()\n",
    "count_B = df['B'].count()\n",
    "\n",
    "print(f\"Nombre de valeurs non nulles dans A : {count_A}\")\n",
    "print(f\"Nombre de valeurs non nulles dans B : {count_B}\")"
   ]
  },
  {
   "cell_type": "markdown",
   "metadata": {},
   "source": [
    "<h4>Exercice d'application</h4>"
   ]
  },
  {
   "cell_type": "markdown",
   "metadata": {},
   "source": [
    "Supposons que vous travaillez pour une entreprise de vente au détail et que vous avez un DataFrame contenant des informations sur les ventes de produits. Voici un exemple simplifié de ce DataFrame :\n"
   ]
  },
  {
   "cell_type": "code",
   "execution_count": 27,
   "metadata": {},
   "outputs": [
    {
     "data": {
      "text/plain": [
       "{'Product': ['A', 'B', 'A', 'C', 'B', 'A'],\n",
       " 'Quantity': [10, 20, 30, 40, 50, 60],\n",
       " 'Price': [5, 10, 8, 12, 7, 9]}"
      ]
     },
     "execution_count": 27,
     "metadata": {},
     "output_type": "execute_result"
    }
   ],
   "source": [
    "data = {'Product': ['A', 'B', 'A', 'C', 'B', 'A'],\n",
    "        'Quantity': [10, 20, 30, 40, 50, 60],\n",
    "        'Price': [5, 10, 8, 12, 7, 9]}\n",
    "\n",
    "df = pd.DataFrame(data)\n",
    "data"
   ]
  },
  {
   "cell_type": "markdown",
   "metadata": {},
   "source": [
    "Vous devez résoudre les problèmes suivants en utilisant les fonctions d'agrégation :\n",
    "\n",
    "Compter les catégories de produit vendue. <br>\n",
    "Trouvez la quantité totale vendue. <br>\n",
    "Calculez le prix moyen. <br>"
   ]
  },
  {
   "cell_type": "markdown",
   "metadata": {},
   "source": [
    "<h5>Correction</h5>"
   ]
  },
  {
   "cell_type": "code",
   "execution_count": 28,
   "metadata": {},
   "outputs": [
    {
     "data": {
      "text/plain": [
       "3"
      ]
     },
     "execution_count": 28,
     "metadata": {},
     "output_type": "execute_result"
    }
   ],
   "source": [
    "#Compter les catégories de produit vendue. \n",
    "nombre_categories = df['Product'].nunique()\n",
    "nombre_categories"
   ]
  },
  {
   "cell_type": "code",
   "execution_count": 30,
   "metadata": {},
   "outputs": [
    {
     "data": {
      "text/plain": [
       "210"
      ]
     },
     "execution_count": 30,
     "metadata": {},
     "output_type": "execute_result"
    }
   ],
   "source": [
    "# Trouvez la quantité totale vendue.\n",
    "quantite_totale_vendue = df['Quantity'].sum()\n",
    "quantite_totale_vendue"
   ]
  },
  {
   "cell_type": "code",
   "execution_count": null,
   "metadata": {},
   "outputs": [],
   "source": [
    "# Calculez le prix moyen.\n",
    "prix_moyen = df['Price'].mean()\n",
    "prix_moyen"
   ]
  },
  {
   "cell_type": "markdown",
   "metadata": {},
   "source": [
    "<h3>Fonction de transformation</h3>"
   ]
  },
  {
   "cell_type": "markdown",
   "metadata": {},
   "source": [
    "Une fonction de transformation, en termes de traitement de données, est une fonction qui prend une ou plusieurs valeurs en entrée, les modifie d'une certaine manière, puis renvoie le résultat transformé en sortie. Contrairement aux fonctions d'agrégation qui réduisent les données à un seul résultat, les fonctions de transformation agissent sur chaque élément individuel sans agréger les données."
   ]
  },
  {
   "cell_type": "markdown",
   "metadata": {},
   "source": [
    "<code>np.log(), np.exp():</code> Calculent le logarithme naturel et l'exponentielle d'un nombre respectivement. <br>\n",
    "<code>np.sin(), np.cos(), np.sqrt():</code> Calculent le sinus, le cosinus et la racine carrée d'un nombre respectivement.\n",
    "\n",
    "<code>str.upper(), str.lower():</code> Mettent en majuscules ou en minuscules une chaîne de caractères. <br>\n",
    "<code> str.replace():</code> Remplace des sous-chaînes dans une chaîne de caractères."
   ]
  },
  {
   "cell_type": "code",
   "execution_count": 7,
   "metadata": {},
   "outputs": [
    {
     "data": {
      "text/plain": [
       "{'A': [1, 2, 3, 4, 5],\n",
       " 'B': [10, 20, 30, 40, 50],\n",
       " 'C': ['A', 'C', 'D', 'E', 'F'],\n",
       " 'D': array([1.        , 1.41421356, 1.73205081, 2.        , 2.23606798])}"
      ]
     },
     "execution_count": 7,
     "metadata": {},
     "output_type": "execute_result"
    }
   ],
   "source": [
    "import numpy as np\n",
    "data = {'A': [1, 2, 3, 4, 5],\n",
    "        'B': [10, 20, 30, 40, 50],\n",
    "        'C':[\"A\", \"C\", \"D\", \"E\",\"F\"]}\n",
    "data[\"D\"] = np.sqrt(data[\"A\"])\n",
    "data"
   ]
  },
  {
   "cell_type": "markdown",
   "metadata": {},
   "source": [
    "Problème : Gestion des données de ventes\n",
    "\n",
    "Supposons que vous travaillez pour une entreprise de vente en ligne qui souhaite analyser ses données de ventes pour mieux comprendre les habitudes d'achat de ses clients. Vous disposez d'un ensemble de données contenant des informations sur les transactions passées, notamment les produits achetés, les quantités, les prix, et les dates.\n",
    "\n",
    "Votre objectif est de préparer les données pour une analyse approfondie en effectuant les étapes suivantes :\n",
    "\n",
    "Calculer le montant total de chaque transaction en multipliant la quantité achetée par le prix unitaire.\n",
    "Ajouter une colonne pour indiquer le mois de chaque transaction.\n",
    "Regrouper les données par mois pour obtenir des informations agrégées sur les ventes mensuelles.\n",
    "Identifier les produits les plus populaires en comptant combien de fois chaque produit a été acheté.\n",
    "Calculer le revenu moyen par transaction.\n",
    "Ces étapes permettront à l'entreprise de tirer des conclusions utiles sur les habitudes d'achat de ses clients et de prendre des décisions basées sur des données fiables."
   ]
  },
  {
   "cell_type": "code",
   "execution_count": 32,
   "metadata": {},
   "outputs": [
    {
     "name": "stdout",
     "output_type": "stream",
     "text": [
      "Montant total de chaque transaction :\n",
      "  Produit  Quantité  Prix Unitaire       Date  Montant Total  Mois\n",
      "0       A         3             10 2023-09-01             30     9\n",
      "1       B         2              5 2023-09-02             10     9\n",
      "2       A         1             12 2023-09-02             12     9\n",
      "3       C         4              8 2023-09-03             32     9\n",
      "4       B         2              6 2023-09-03             12     9\n",
      "5       C         3             10 2023-09-04             30     9\n",
      "\n",
      "Ventes par mois :\n",
      "Mois\n",
      "9    126\n",
      "Name: Montant Total, dtype: int64\n",
      "\n",
      "Produits populaires :\n",
      "A    2\n",
      "B    2\n",
      "C    2\n",
      "Name: Produit, dtype: int64\n",
      "\n",
      "Revenu moyen par transaction :\n",
      "21.0\n"
     ]
    }
   ],
   "source": [
    "import pandas as pd\n",
    "\n",
    "data = {\n",
    "    'Produit': ['A', 'B', 'A', 'C', 'B', 'C'],\n",
    "    'Quantité': [3, 2, 1, 4, 2, 3],\n",
    "    'Prix Unitaire': [10, 5, 12, 8, 6, 10],\n",
    "    'Date': ['2023-09-01', '2023-09-02', '2023-09-02', '2023-09-03', '2023-09-03', '2023-09-04']\n",
    "}\n",
    "\n",
    "df = pd.DataFrame(data)\n",
    "df['Date'] = pd.to_datetime(df['Date'])\n",
    "\n",
    "# 1. Calculer le montant total de chaque transaction\n",
    "df['Montant Total'] = df['Quantité'] * df['Prix Unitaire']\n",
    "\n",
    "# 2. Ajouter une colonne pour indiquer le mois de chaque transaction\n",
    "df['Mois'] = df['Date'].dt.month\n",
    "\n",
    "# 5. Identifier les produits les plus populaires\n",
    "produits_populaires = df['Produit'].value_counts()\n",
    "\n",
    "# 6. Calculer le revenu moyen par transaction\n",
    "revenu_moyen_par_transaction = df['Montant Total'].mean()\n",
    "\n",
    "print(\"Montant total de chaque transaction :\")\n",
    "print(df)\n",
    "\n",
    "\n",
    "print(\"\\nProduits populaires :\")\n",
    "print(produits_populaires)\n",
    "\n",
    "print(\"\\nRevenu moyen par transaction :\")\n",
    "print(revenu_moyen_par_transaction)\n"
   ]
  },
  {
   "cell_type": "markdown",
   "metadata": {},
   "source": [
    "<h4>Fonctions de filtrage</h4>"
   ]
  },
  {
   "cell_type": "markdown",
   "metadata": {},
   "source": [
    "***Fonctionnement des fonctions de filtrage***\n",
    "Les fonctions de filtrage en Pandas permettent de sélectionner des données spécifiques à partir d'un DataFrame en se basant sur des critères spécifiés. Voici le principe de fonctionnement de ces fonctions :\n",
    "\n",
    "1. ****Condition de Filtrage**** : Tout d'abord, vous spécifiez une condition basée sur les valeurs des colonnes du DataFrame. Par exemple, vous pourriez vouloir sélectionner toutes les lignes où une colonne a une valeur supérieure à 5.\n",
    "\n",
    "2. ****Création d'un Masque**** : Lorsque vous appliquez une condition, Pandas crée un masque booléen. Cela signifie que pour chaque ligne du DataFrame, une valeur `True` ou `False` est assignée en fonction de si la condition est vérifiée ou non. Par exemple, si la condition est `df['Colonne'] > 5`, le masque aura `True` pour les lignes où cette condition est vraie, et `False` sinon.\n",
    "\n",
    "3. ****Application du Masque**** : Le masque est ensuite utilisé pour sélectionner les lignes qui répondent à la condition. Cela signifie que seules les lignes avec des valeurs `True` dans le masque seront incluses dans le résultat final.\n",
    "\n",
    "4. ****Résultat Final**** : Le résultat de l'opération de filtrage est un nouveau DataFrame qui contient uniquement les lignes qui satisfont à la condition spécifiée."
   ]
  },
  {
   "cell_type": "markdown",
   "metadata": {},
   "source": [
    "<h5>Filtrage avec condition simple</h5>"
   ]
  },
  {
   "cell_type": "code",
   "execution_count": 8,
   "metadata": {},
   "outputs": [
    {
     "name": "stdout",
     "output_type": "stream",
     "text": [
      "   Colonne\n",
      "1        7\n",
      "3        9\n"
     ]
    }
   ],
   "source": [
    "import pandas as pd\n",
    "\n",
    "data = {'Colonne': [1, 7, 3, 9, 2]}\n",
    "df = pd.DataFrame(data)\n",
    "\n",
    "result = df[df['Colonne'] > 5]\n",
    "print(result)\n"
   ]
  },
  {
   "cell_type": "markdown",
   "metadata": {},
   "source": [
    "<h5>Filtrage avec plusieurs conditions</h5>"
   ]
  },
  {
   "cell_type": "code",
   "execution_count": 9,
   "metadata": {},
   "outputs": [
    {
     "name": "stdout",
     "output_type": "stream",
     "text": [
      "   Colonne\n",
      "1        7\n",
      "2        3\n"
     ]
    }
   ],
   "source": [
    "result = df[(df['Colonne'] > 2) & (df['Colonne'] < 8)]\n",
    "print(result)"
   ]
  },
  {
   "cell_type": "markdown",
   "metadata": {},
   "source": [
    "<h5>Filtrage avec l'opérateur isin</h5>"
   ]
  },
  {
   "cell_type": "code",
   "execution_count": 10,
   "metadata": {},
   "outputs": [
    {
     "name": "stdout",
     "output_type": "stream",
     "text": [
      "   Colonne\n",
      "0        1\n",
      "2        3\n"
     ]
    }
   ],
   "source": [
    "result = df[df['Colonne'].isin([1, 3, 5])]\n",
    "print(result)"
   ]
  },
  {
   "cell_type": "markdown",
   "metadata": {},
   "source": [
    "<h5>Filtrage avec l'opérateur ~ (négation)</h5>"
   ]
  },
  {
   "cell_type": "code",
   "execution_count": 11,
   "metadata": {},
   "outputs": [
    {
     "name": "stdout",
     "output_type": "stream",
     "text": [
      "   Colonne\n",
      "0        1\n",
      "2        3\n",
      "4        2\n"
     ]
    }
   ],
   "source": [
    "result = df[~(df['Colonne'] > 5)]\n",
    "print(result)\n"
   ]
  },
  {
   "cell_type": "markdown",
   "metadata": {},
   "source": [
    "<h5>Filtrage avec between</h5>"
   ]
  },
  {
   "cell_type": "code",
   "execution_count": 13,
   "metadata": {},
   "outputs": [
    {
     "name": "stdout",
     "output_type": "stream",
     "text": [
      "   Colonne\n",
      "1        7\n",
      "3        9\n"
     ]
    }
   ],
   "source": [
    "result = df[df['Colonne'].between(4, 9)]\n",
    "print(result)\n"
   ]
  },
  {
   "cell_type": "markdown",
   "metadata": {},
   "source": []
  },
  {
   "cell_type": "markdown",
   "metadata": {},
   "source": [
    "<h4>Fonctions de trie</h4>"
   ]
  },
  {
   "cell_type": "markdown",
   "metadata": {},
   "source": [
    "En analyse de données, une fonction de tri est une méthode ou un processus permettant d'organiser un jeu de données selon un ordre spécifique. L'objectif du tri est de rendre les données plus lisibles et plus faciles à analyser en les disposant dans un ordre particulier.\n",
    "\n",
    "Par exemple, on peut trier des données numériques du plus petit au plus grand pour identifier des tendances ou des valeurs extrêmes. On peut également trier des données textuelles par ordre alphabétique ou selon d'autres critères pour faciliter leur examen.\n",
    "\n",
    "Les fonctions de tri en analyse de données peuvent être utilisées pour :\n",
    "\n",
    "Classer les données : Organiser les données de manière à ce qu'elles suivent un ordre spécifique, facilitant ainsi l'identification de schémas ou de tendances.\n",
    "\n",
    "Identifier des valeurs extrêmes : En triant les données, on peut repérer rapidement les valeurs les plus petites ou les plus grandes.\n",
    "\n",
    "Faciliter la visualisation : Les graphiques et les visualisations sont souvent plus clairs lorsque les données sont triées.\n",
    "\n",
    "Simplifier les comparaisons : Le tri permet de comparer facilement des éléments adjacents ou des groupes de données.\n",
    "\n",
    "Faciliter l'agrégation : Lorsque les données sont triées, il est plus facile de les regrouper ou de les agréger selon des critères spécifiques."
   ]
  },
  {
   "cell_type": "markdown",
   "metadata": {},
   "source": [
    "Voici quelques-unes des fonctions de tri couramment utilisées en pandas :\n",
    "\n",
    "`sort_values() :` Trie un DataFrame en fonction des valeurs dans une ou plusieurs colonnes. On peut spécifier l'ordre (croissant ou décroissant) pour chaque colonne.\n",
    "\n",
    "`sort_index() :` Trie un DataFrame en fonction des index (lignes) plutôt que des valeurs.\n",
    "\n",
    "`nlargest() et nsmallest() :` Retourne les n plus grandes ou plus petites valeurs d'une série ou d'un DataFrame.\n",
    "\n",
    "`rank() :` Attribution de classements (ranks) aux éléments d'une série ou d'un DataFrame en fonction des valeurs.\n",
    "\n",
    "`argsort() :` Retourne un index qui trie les éléments d'une série.\n",
    "\n",
    "`natsort() :` Trie les chaînes de caractères en utilisant un tri \"naturel\", c'est-à-dire en tenant compte des chiffres et de l'ordre alphabétique."
   ]
  },
  {
   "cell_type": "markdown",
   "metadata": {},
   "source": [
    "<h5>Sort_values</h5>"
   ]
  },
  {
   "cell_type": "code",
   "execution_count": 16,
   "metadata": {},
   "outputs": [
    {
     "name": "stdout",
     "output_type": "stream",
     "text": [
      "   A  B\n",
      "1  1  3\n",
      "2  2  2\n",
      "0  3  1\n"
     ]
    }
   ],
   "source": [
    "import pandas as pd\n",
    "\n",
    "# Création d'un DataFrame\n",
    "data = {'A': [3, 1, 2], 'B': [1, 3, 2]}\n",
    "df = pd.DataFrame(data)\n",
    "\n",
    "# Tri par la colonne 'A' en ordre croissant\n",
    "df_sorted = df.sort_values(by='A')\n",
    "print(df_sorted)\n"
   ]
  },
  {
   "cell_type": "markdown",
   "metadata": {},
   "source": [
    "<h5>nlargest et nsamllest</h5>"
   ]
  },
  {
   "cell_type": "code",
   "execution_count": 17,
   "metadata": {},
   "outputs": [
    {
     "name": "stdout",
     "output_type": "stream",
     "text": [
      "0    3\n",
      "2    2\n",
      "Name: A, dtype: int64\n"
     ]
    }
   ],
   "source": [
    "# Sélection des deux plus grandes valeurs dans la colonne 'A'\n",
    "top_2_largest = df['A'].nlargest(2)\n",
    "print(top_2_largest)"
   ]
  },
  {
   "cell_type": "markdown",
   "metadata": {},
   "source": [
    "<h5>argsort</h5>"
   ]
  },
  {
   "cell_type": "code",
   "execution_count": 20,
   "metadata": {},
   "outputs": [
    {
     "data": {
      "text/plain": [
       "0    1\n",
       "1    2\n",
       "2    0\n",
       "Name: A, dtype: int64"
      ]
     },
     "execution_count": 20,
     "metadata": {},
     "output_type": "execute_result"
    }
   ],
   "source": [
    "indices = df['A'].argsort()\n",
    "indices"
   ]
  },
  {
   "cell_type": "markdown",
   "metadata": {},
   "source": [
    "<h3>Fonctions de groupement</h3>"
   ]
  },
  {
   "cell_type": "markdown",
   "metadata": {},
   "source": [
    "Une fonction de groupement en pandas permet de regrouper des données en fonction d'une ou plusieurs clés, puis d'effectuer des opérations sur ces groupes. Ces opérations peuvent être des agrégations (comme la somme, la moyenne, le comptage) ou des transformations (comme le calcul de pourcentages par groupe).\n",
    "\n",
    "Les étapes pour utiliser une fonction de groupement en pandas sont généralement les suivantes :\n",
    "\n",
    "Division par clé : Les données sont divisées en groupes en fonction des valeurs de la ou des clés spécifiées.\n",
    "\n",
    "Application d'une fonction : Une fonction d'agrégation (comme la somme, la moyenne, etc.) ou une transformation (comme le calcul de pourcentages) est appliquée à chaque groupe.\n",
    "\n",
    "Combinaison des résultats : Les résultats de l'application de la fonction sur chaque groupe sont combinés pour produire un nouvel objet."
   ]
  },
  {
   "cell_type": "markdown",
   "metadata": {},
   "source": [
    "Pour regrouper un données on utilise la fonction <code>groupe_by</code>"
   ]
  },
  {
   "cell_type": "markdown",
   "metadata": {},
   "source": [
    "<h5>Les paramètres les plus souvent utilisés</h5>"
   ]
  },
  {
   "cell_type": "markdown",
   "metadata": {},
   "source": [
    "by : C'est l'argument principal qui spécifie les colonnes ou les clés à utiliser pour le regroupement. Il peut s'agir d'un nom de colonne (str), d'une liste de noms de colonnes, d'une fonction ou d'un objet similaire à un tableau qui sera utilisé pour effectuer le regroupement.\n",
    "\n",
    "axis : Cet argument permet de spécifier l'axe sur lequel effectuer le regroupement. Par défaut, il s'agit de l'axe 0, c'est-à-dire les lignes. Si vous voulez regrouper les colonnes, vous pouvez utiliser axis=1.\n",
    "\n",
    "sort : Ce paramètre détermine si les groupes doivent être triés. Par défaut, il est à True."
   ]
  },
  {
   "cell_type": "code",
   "execution_count": 22,
   "metadata": {},
   "outputs": [],
   "source": [
    "import pandas as pd\n",
    "\n",
    "# Création d'un DataFrame\n",
    "data = {'Category': ['A', 'B', 'A', 'B', 'A'],\n",
    "        'Value': [10, 20, 30, 40, 50]}\n",
    "df = pd.DataFrame(data)\n",
    "\n",
    "# Regroupement par 'Category'\n",
    "grouped = df.groupby('Category')\n"
   ]
  },
  {
   "cell_type": "markdown",
   "metadata": {},
   "source": [
    "<h5>Application</h5>"
   ]
  },
  {
   "cell_type": "markdown",
   "metadata": {},
   "source": [
    "<h6>Fonction d'aggrégation</h6>"
   ]
  },
  {
   "cell_type": "code",
   "execution_count": 23,
   "metadata": {},
   "outputs": [
    {
     "data": {
      "text/plain": [
       "Category\n",
       "A    30.0\n",
       "B    30.0\n",
       "Name: Value, dtype: float64"
      ]
     },
     "execution_count": 23,
     "metadata": {},
     "output_type": "execute_result"
    }
   ],
   "source": [
    "mean_values = grouped['Value'].mean()\n",
    "mean_values"
   ]
  },
  {
   "cell_type": "markdown",
   "metadata": {},
   "source": [
    "<h6>Fonction personnalisée</h6>"
   ]
  },
  {
   "cell_type": "code",
   "execution_count": 24,
   "metadata": {},
   "outputs": [
    {
     "data": {
      "text/plain": [
       "Category\n",
       "A    1.8\n",
       "B    1.5\n",
       "Name: Value, dtype: float64"
      ]
     },
     "execution_count": 24,
     "metadata": {},
     "output_type": "execute_result"
    }
   ],
   "source": [
    "def custom_function(x):\n",
    "    return x.sum() / x.max()\n",
    "\n",
    "custom_result = grouped['Value'].agg(custom_function)\n",
    "custom_result"
   ]
  },
  {
   "cell_type": "markdown",
   "metadata": {},
   "source": [
    "<h6>Fonction transform</h6>"
   ]
  },
  {
   "cell_type": "code",
   "execution_count": 25,
   "metadata": {},
   "outputs": [
    {
     "data": {
      "text/plain": [
       "0   -1.000000\n",
       "1   -0.707107\n",
       "2    0.000000\n",
       "3    0.707107\n",
       "4    1.000000\n",
       "Name: Value, dtype: float64"
      ]
     },
     "execution_count": 25,
     "metadata": {},
     "output_type": "execute_result"
    }
   ],
   "source": [
    "normalized_values = grouped['Value'].transform(lambda x: (x - x.mean()) / x.std())\n",
    "normalized_values"
   ]
  }
 ],
 "metadata": {
  "kernelspec": {
   "display_name": "dataDibe",
   "language": "python",
   "name": "python3"
  },
  "language_info": {
   "codemirror_mode": {
    "name": "ipython",
    "version": 3
   },
   "file_extension": ".py",
   "mimetype": "text/x-python",
   "name": "python",
   "nbconvert_exporter": "python",
   "pygments_lexer": "ipython3",
   "version": "3.9.13"
  },
  "orig_nbformat": 4
 },
 "nbformat": 4,
 "nbformat_minor": 2
}
