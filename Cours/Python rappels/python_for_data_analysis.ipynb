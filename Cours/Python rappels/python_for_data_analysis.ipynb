{
 "cells": [
  {
   "cell_type": "markdown",
   "metadata": {},
   "source": [
    "<h1>Introduction python pour l'analyse de données</h1>"
   ]
  },
  {
   "cell_type": "markdown",
   "metadata": {},
   "source": [
    "<h3>Les types de données en pyton</h3>"
   ]
  },
  {
   "cell_type": "markdown",
   "metadata": {},
   "source": [
    "<p>\n",
    "    Un type de donnée en programmation est une classification ou une catégorie qui indique le genre d'informations qu'une variable ou une constante peut stocker et les opérations qui peuvent être effectuées sur cette donnée. Il définit également la façon dont l'ordinateur interprète et traite cette information en mémoire.\n",
    "</p>"
   ]
  },
  {
   "cell_type": "markdown",
   "metadata": {},
   "source": [
    "<h4>Les types primitifs</h4>"
   ]
  },
  {
   "cell_type": "markdown",
   "metadata": {},
   "source": [
    "<ul>\n",
    "    <li>Entier: int exemple 12, -10, 2</li>\n",
    "    <li>decimaux: float exemple 4.0, 3.9</li>\n",
    "    <li>Boolean: bool True or False</li>\n",
    "    <li>Charatère : str exmeple \"Je pars á la fac\"</li>\n",
    "</ul>"
   ]
  },
  {
   "cell_type": "code",
   "execution_count": 1,
   "metadata": {},
   "outputs": [
    {
     "name": "stdout",
     "output_type": "stream",
     "text": [
      "La valeur de la variable est,  10\n"
     ]
    }
   ],
   "source": [
    "variable = 10\n",
    "print(\"La valeur de la variable est, \", variable)"
   ]
  },
  {
   "cell_type": "code",
   "execution_count": 2,
   "metadata": {},
   "outputs": [
    {
     "name": "stdout",
     "output_type": "stream",
     "text": [
      "Je pars á la fac\n"
     ]
    }
   ],
   "source": [
    "var = \"Je pars á la fac\"\n",
    "print(var)"
   ]
  },
  {
   "cell_type": "code",
   "execution_count": 3,
   "metadata": {},
   "outputs": [
    {
     "name": "stdout",
     "output_type": "stream",
     "text": [
      "False\n"
     ]
    }
   ],
   "source": [
    "resultat = variable == 7\n",
    "print(resultat)"
   ]
  },
  {
   "cell_type": "markdown",
   "metadata": {},
   "source": [
    "<h4>Les variables complexe</h4>"
   ]
  },
  {
   "cell_type": "markdown",
   "metadata": {},
   "source": [
    "<h5>Les listes<h5>"
   ]
  },
  {
   "cell_type": "markdown",
   "metadata": {},
   "source": [
    "<p>\n",
    "    En Python, une liste est une structure de données qui permet de stocker une collection ordonnée d'éléments. Ces éléments peuvent être de n'importe quel type de données, tels que des entiers, des nombres à virgule flottante, des chaînes de caractères, des listes imbriquées, etc.\n",
    "</p>"
   ]
  },
  {
   "cell_type": "code",
   "execution_count": 4,
   "metadata": {},
   "outputs": [],
   "source": [
    "ma_liste = [12, 9, True, \"Bon\", [12, 7]]"
   ]
  },
  {
   "cell_type": "markdown",
   "metadata": {},
   "source": [
    "<h5>Opérations sur les listes</h5>"
   ]
  },
  {
   "cell_type": "markdown",
   "metadata": {},
   "source": [
    "<em>Accéder au éléments</em>"
   ]
  },
  {
   "cell_type": "code",
   "execution_count": 5,
   "metadata": {},
   "outputs": [
    {
     "data": {
      "text/plain": [
       "'Merci'"
      ]
     },
     "execution_count": 5,
     "metadata": {},
     "output_type": "execute_result"
    }
   ],
   "source": [
    "ma_liste[3]"
   ]
  },
  {
   "cell_type": "markdown",
   "metadata": {},
   "source": [
    "<em>Modification d'un élément</em>"
   ]
  },
  {
   "cell_type": "code",
   "execution_count": 7,
   "metadata": {},
   "outputs": [
    {
     "data": {
      "text/plain": [
       "'Mauvais'"
      ]
     },
     "execution_count": 7,
     "metadata": {},
     "output_type": "execute_result"
    }
   ],
   "source": [
    "ma_liste[3] = \"Mauvais\"\n",
    "ma_liste[3]"
   ]
  },
  {
   "cell_type": "markdown",
   "metadata": {},
   "source": [
    "<em>Ajout d'élement</em>"
   ]
  },
  {
   "cell_type": "code",
   "execution_count": 8,
   "metadata": {},
   "outputs": [
    {
     "data": {
      "text/plain": [
       "[12, 9, True, 'Mauvais', [12, 7], 'Koffi']"
      ]
     },
     "execution_count": 8,
     "metadata": {},
     "output_type": "execute_result"
    }
   ],
   "source": [
    "ma_liste.append(\"Koffi\")\n",
    "ma_liste"
   ]
  },
  {
   "cell_type": "markdown",
   "metadata": {},
   "source": [
    "<em>Suppression</em>"
   ]
  },
  {
   "cell_type": "code",
   "execution_count": 9,
   "metadata": {},
   "outputs": [
    {
     "data": {
      "text/plain": [
       "'Mauvais'"
      ]
     },
     "execution_count": 9,
     "metadata": {},
     "output_type": "execute_result"
    }
   ],
   "source": [
    "a = ma_liste.pop(3)\n",
    "a"
   ]
  },
  {
   "cell_type": "markdown",
   "metadata": {},
   "source": [
    "<em>Parcourir</em>"
   ]
  },
  {
   "cell_type": "code",
   "execution_count": 10,
   "metadata": {},
   "outputs": [
    {
     "name": "stdout",
     "output_type": "stream",
     "text": [
      "12\n",
      "9\n",
      "True\n",
      "[12, 7]\n",
      "Koffi\n"
     ]
    }
   ],
   "source": [
    "for element in ma_liste:\n",
    "    print(element)"
   ]
  },
  {
   "cell_type": "markdown",
   "metadata": {},
   "source": [
    "<h5>Les dictionnaires</h5>"
   ]
  },
  {
   "cell_type": "markdown",
   "metadata": {},
   "source": [
    "<p>\n",
    "    En Python, un dictionnaire est une structure de données qui permet de stocker des paires de clés (keys) et de valeurs (values). Chaque valeur est associée à une clé spécifique, ce qui permet un accès rapide aux données en utilisant la clé correspondante.\n",
    "</p>"
   ]
  },
  {
   "cell_type": "code",
   "execution_count": 11,
   "metadata": {},
   "outputs": [
    {
     "data": {
      "text/plain": [
       "{'Pays': 'Togo', 'Vile': 'Lomé, kara', 'Région': 5, True: 'Afrique'}"
      ]
     },
     "execution_count": 11,
     "metadata": {},
     "output_type": "execute_result"
    }
   ],
   "source": [
    "ma_dict = {\"Pays\": \"Togo\", \"Vile\": \"Lomé, kara\", \"Région\": 5, True: \"Afrique\" }\n",
    "ma_dict"
   ]
  },
  {
   "cell_type": "markdown",
   "metadata": {},
   "source": [
    "<h5>Opérations sur les Dictionnaire</h5>"
   ]
  },
  {
   "cell_type": "markdown",
   "metadata": {},
   "source": [
    "<em>Accéder á un élément</em>"
   ]
  },
  {
   "cell_type": "code",
   "execution_count": 12,
   "metadata": {},
   "outputs": [
    {
     "data": {
      "text/plain": [
       "'Togo'"
      ]
     },
     "execution_count": 12,
     "metadata": {},
     "output_type": "execute_result"
    }
   ],
   "source": [
    "ma_dict[\"Pays\"]"
   ]
  },
  {
   "cell_type": "markdown",
   "metadata": {},
   "source": [
    "<em>Modifier un élément</em>"
   ]
  },
  {
   "cell_type": "code",
   "execution_count": 14,
   "metadata": {},
   "outputs": [
    {
     "data": {
      "text/plain": [
       "'Mali'"
      ]
     },
     "execution_count": 14,
     "metadata": {},
     "output_type": "execute_result"
    }
   ],
   "source": [
    "ma_dict[\"Pays\"] = \"Mali\"\n",
    "ma_dict[\"Pays\"]"
   ]
  },
  {
   "cell_type": "markdown",
   "metadata": {},
   "source": [
    "<em>Ajouter un élément</em>"
   ]
  },
  {
   "cell_type": "code",
   "execution_count": 16,
   "metadata": {},
   "outputs": [
    {
     "data": {
      "text/plain": [
       "{'Pays': 'Mali',\n",
       " 'Vile': 'Lomé, kara',\n",
       " 'Région': 5,\n",
       " True: 'Afrique',\n",
       " 'Limitrophes': ['Ghana', 'Bénin', 'Burkina Faso']}"
      ]
     },
     "execution_count": 16,
     "metadata": {},
     "output_type": "execute_result"
    }
   ],
   "source": [
    "ma_dict[\"Limitrophes\"] = [\"Ghana\", \"Bénin\", \"Burkina Faso\"]\n",
    "ma_dict"
   ]
  },
  {
   "cell_type": "markdown",
   "metadata": {},
   "source": [
    "<em>Supprimer</em>"
   ]
  },
  {
   "cell_type": "code",
   "execution_count": 17,
   "metadata": {},
   "outputs": [
    {
     "data": {
      "text/plain": [
       "{'Pays': 'Mali', 'Vile': 'Lomé, kara', 'Région': 5, True: 'Afrique'}"
      ]
     },
     "execution_count": 17,
     "metadata": {},
     "output_type": "execute_result"
    }
   ],
   "source": [
    "del ma_dict[\"Limitrophes\"]\n",
    "ma_dict"
   ]
  },
  {
   "cell_type": "markdown",
   "metadata": {},
   "source": [
    "<em>Obtenir les clés</em>"
   ]
  },
  {
   "cell_type": "code",
   "execution_count": 22,
   "metadata": {},
   "outputs": [
    {
     "data": {
      "text/plain": [
       "dict_keys(['Pays', 'Vile', 'Région', True])"
      ]
     },
     "execution_count": 22,
     "metadata": {},
     "output_type": "execute_result"
    }
   ],
   "source": [
    "ma_dict.keys()"
   ]
  },
  {
   "cell_type": "code",
   "execution_count": 19,
   "metadata": {},
   "outputs": [
    {
     "data": {
      "text/plain": [
       "['Pays', 'Vile', 'Région', True]"
      ]
     },
     "execution_count": 19,
     "metadata": {},
     "output_type": "execute_result"
    }
   ],
   "source": [
    "list(ma_dict.keys())"
   ]
  },
  {
   "cell_type": "markdown",
   "metadata": {},
   "source": [
    "<em>Obtenir les valeurs</em>"
   ]
  },
  {
   "cell_type": "code",
   "execution_count": 20,
   "metadata": {},
   "outputs": [
    {
     "data": {
      "text/plain": [
       "dict_values(['Mali', 'Lomé, kara', 5, 'Afrique'])"
      ]
     },
     "execution_count": 20,
     "metadata": {},
     "output_type": "execute_result"
    }
   ],
   "source": [
    "ma_dict.values()"
   ]
  },
  {
   "cell_type": "code",
   "execution_count": 21,
   "metadata": {},
   "outputs": [
    {
     "data": {
      "text/plain": [
       "['Mali', 'Lomé, kara', 5, 'Afrique']"
      ]
     },
     "execution_count": 21,
     "metadata": {},
     "output_type": "execute_result"
    }
   ],
   "source": [
    "list(ma_dict.values())"
   ]
  },
  {
   "cell_type": "markdown",
   "metadata": {},
   "source": [
    "<h5>Les ensembles</h5>"
   ]
  },
  {
   "cell_type": "markdown",
   "metadata": {},
   "source": [
    "<p>\n",
    "    En Python, un ensemble (set) est une structure de données qui représente une collection non ordonnée d'éléments uniques. Chaque élément doit être unique, ce qui signifie qu'il ne peut y avoir aucune duplication dans un ensemble.\n",
    "</p>"
   ]
  },
  {
   "cell_type": "code",
   "execution_count": 48,
   "metadata": {},
   "outputs": [],
   "source": [
    "englophones = {\"Nigéria\", \"Ghana\", \"P\"}\n",
    "cotiers = {\"Togo\", \"Bénin\", \"Sénegal\", \"Nigéria\", \"Ghana\", \"Sénegal\", \"P\"}"
   ]
  },
  {
   "cell_type": "markdown",
   "metadata": {},
   "source": [
    "<h5>Opération sur les ensembles</h5>"
   ]
  },
  {
   "cell_type": "markdown",
   "metadata": {},
   "source": [
    "<em>Ajouter</em>"
   ]
  },
  {
   "cell_type": "code",
   "execution_count": 40,
   "metadata": {},
   "outputs": [],
   "source": [
    "cotiers.add(\"Cote d'ivoir\")"
   ]
  },
  {
   "cell_type": "code",
   "execution_count": 41,
   "metadata": {},
   "outputs": [
    {
     "data": {
      "text/plain": [
       "{'Bénin', \"Cote d'ivoir\", 'Ghana', 'Nigérai', 'Sénegal', 'Togo'}"
      ]
     },
     "execution_count": 41,
     "metadata": {},
     "output_type": "execute_result"
    }
   ],
   "source": [
    "cotiers"
   ]
  },
  {
   "cell_type": "markdown",
   "metadata": {},
   "source": [
    "<em>Supprimer</em>"
   ]
  },
  {
   "cell_type": "code",
   "execution_count": 42,
   "metadata": {},
   "outputs": [
    {
     "data": {
      "text/plain": [
       "{'Bénin', \"Cote d'ivoir\", 'Ghana', 'Nigérai', 'Sénegal'}"
      ]
     },
     "execution_count": 42,
     "metadata": {},
     "output_type": "execute_result"
    }
   ],
   "source": [
    "cotiers.remove(\"Togo\")\n",
    "cotiers"
   ]
  },
  {
   "cell_type": "markdown",
   "metadata": {},
   "source": [
    "<em>Opérateurs ensembliste</em>"
   ]
  },
  {
   "cell_type": "code",
   "execution_count": 50,
   "metadata": {},
   "outputs": [
    {
     "data": {
      "text/plain": [
       "{'Bénin', 'Sénegal', 'Togo'}"
      ]
     },
     "execution_count": 50,
     "metadata": {},
     "output_type": "execute_result"
    }
   ],
   "source": [
    "diff = cotiers.difference(englophones) # Difference\n",
    "diff"
   ]
  },
  {
   "cell_type": "code",
   "execution_count": 51,
   "metadata": {},
   "outputs": [
    {
     "data": {
      "text/plain": [
       "{'Ghana', 'Nigéria', 'P'}"
      ]
     },
     "execution_count": 51,
     "metadata": {},
     "output_type": "execute_result"
    }
   ],
   "source": [
    "inter = cotiers.intersection(englophones) # Intersection\n",
    "inter"
   ]
  },
  {
   "cell_type": "code",
   "execution_count": 53,
   "metadata": {},
   "outputs": [
    {
     "data": {
      "text/plain": [
       "{'Bénin', 'Ghana', 'Nigéria', 'P', 'Sénegal', 'Togo'}"
      ]
     },
     "execution_count": 53,
     "metadata": {},
     "output_type": "execute_result"
    }
   ],
   "source": [
    "union = cotiers.union(englophones) # union\n",
    "union"
   ]
  },
  {
   "cell_type": "markdown",
   "metadata": {},
   "source": [
    "<h5>Les classes et object</h5>"
   ]
  },
  {
   "cell_type": "markdown",
   "metadata": {},
   "source": [
    "<p>\n",
    "    Une classe en programmation est un modèle ou un plan pour créer des objets. Elle définit les attributs (variables) et les méthodes (fonctions) qui seront associés à chaque objet créé à partir de cette classe. En d'autres termes, une classe représente un concept, une entité ou un type de données spécifique.\n",
    "</p>"
   ]
  },
  {
   "cell_type": "markdown",
   "metadata": {},
   "source": [
    "<h5>Tableau magnétique</h5>\n",
    "<ul>\n",
    "    <em>Attribue</em>\n",
    "    <li>Longeur, Largeur, épaisseur</li>\n",
    "    <em>Méthode</em>\n",
    "    <li>Êcrire, éffacer, monter etc</li>\n",
    "<ul>"
   ]
  },
  {
   "cell_type": "markdown",
   "metadata": {},
   "source": [
    "<h5>Fenêtre</h5>\n",
    "<ul>\n",
    "    <em>Attribue</em>\n",
    "    <li>Longeur, Largeur, transparence</li>\n",
    "    <em>Méthode</em>\n",
    "    <li>Changer le fond, changer la longuer etc</li>\n",
    "<ul>"
   ]
  },
  {
   "cell_type": "markdown",
   "metadata": {},
   "source": [
    "<h5>Création de classe</h5>"
   ]
  },
  {
   "cell_type": "code",
   "execution_count": 61,
   "metadata": {},
   "outputs": [],
   "source": [
    "class Tableau():\n",
    "\n",
    "    def __init__(self, longueur, largeur, epaisseur):\n",
    "        self.longueur = longueur\n",
    "        self.largeur = largeur\n",
    "        self.epaisseur = epaisseur\n",
    "\n",
    "    def setLongueur(self, lon):\n",
    "        self.longueur = lon\n",
    "    \n",
    "    def setLargeur(self, lar):\n",
    "        self.largeur = lar\n",
    "\n",
    "    def affiche(self):\n",
    "        return \"Longueur \" + str(self.longueur) +  \" \" + \"Largeur \" + str(self.largeur)"
   ]
  },
  {
   "cell_type": "markdown",
   "metadata": {},
   "source": [
    "<h5>Création d'object</h5>"
   ]
  },
  {
   "cell_type": "code",
   "execution_count": 63,
   "metadata": {},
   "outputs": [
    {
     "name": "stdout",
     "output_type": "stream",
     "text": [
      "Les information du tableau 1  Longueur 30 Largeur 23\n",
      "Les information du tableau 2  Longueur 10 Largeur 10\n"
     ]
    }
   ],
   "source": [
    "tab1 = Tableau(30, 23, 2)\n",
    "tab2 = Tableau(10, 10, 1)\n",
    "print(\"Les information du tableau 1 \", tab1.affiche())\n",
    "print(\"Les information du tableau 2 \", tab2.affiche())"
   ]
  },
  {
   "cell_type": "code",
   "execution_count": 64,
   "metadata": {},
   "outputs": [
    {
     "name": "stdout",
     "output_type": "stream",
     "text": [
      "Les information du tableau 1  Longueur 30 Largeur 12.5\n",
      "Les information du tableau 2  Longueur 10 Largeur 9\n"
     ]
    }
   ],
   "source": [
    "tab1.setLargeur(12.5)\n",
    "tab2.setLargeur(9)\n",
    "print(\"Les information du tableau 1 \", tab1.affiche())\n",
    "print(\"Les information du tableau 2 \", tab2.affiche())"
   ]
  },
  {
   "cell_type": "markdown",
   "metadata": {},
   "source": [
    "<h3>Les opérateurs en python</h3>"
   ]
  },
  {
   "cell_type": "markdown",
   "metadata": {},
   "source": [
    "<p>\n",
    "    En Python, les opérateurs sont des symboles spéciaux qui permettent d'effectuer des opérations sur des variables ou des valeurs.\n",
    "</p>"
   ]
  },
  {
   "cell_type": "markdown",
   "metadata": {},
   "source": [
    "<em>Opérateurs arithmétiques</em>"
   ]
  },
  {
   "cell_type": "markdown",
   "metadata": {},
   "source": [
    "<p>\n",
    "    <table>\n",
    "        <thead>\n",
    "            <tr>\n",
    "                <th>Opérateur</th>\n",
    "                <th>Description</th>\n",
    "                <th>Exemple</th>\n",
    "            </tr>\n",
    "        </thead>\n",
    "        <tbody>\n",
    "            <tr>\n",
    "                <td>+</td>\n",
    "                <td>Addition</td>\n",
    "                <td>x + y</td>\n",
    "            </tr>\n",
    "            <tr>\n",
    "                <td>*</td>\n",
    "                <td>Multiplication</td>\n",
    "                <td>x*y</td>\n",
    "            </tr>\n",
    "            <tr>\n",
    "                <td>-</td>\n",
    "                <td>Soustraction</td>\n",
    "                <td>x - y</td>\n",
    "            </tr>\n",
    "            <tr>\n",
    "                <td>/</td>\n",
    "                <td>Division</td>\n",
    "                <td>x/y</td>\n",
    "            </tr>\n",
    "            <tr>\n",
    "                <td>%</td>\n",
    "                <td>Modulo</td>\n",
    "                <td>x%y</td>\n",
    "            </tr>\n",
    "            <tr>\n",
    "                <td>**</td>\n",
    "                <td>exponentielle</td>\n",
    "                <td>x**2</td>\n",
    "            </tr>\n",
    "            <tr>\n",
    "                <td>//</td>\n",
    "                <td>quotien</td>\n",
    "                <td>x//y</td>\n",
    "            </tr>\n",
    "        </tbody>\n",
    "    </table>\n",
    "</p>"
   ]
  },
  {
   "cell_type": "markdown",
   "metadata": {},
   "source": [
    "<em>Opérateurs comparaisons</em>"
   ]
  },
  {
   "cell_type": "markdown",
   "metadata": {},
   "source": [
    "<p>\n",
    "    <table>\n",
    "        <thead>\n",
    "            <tr>\n",
    "                <th>Opérateur</th>\n",
    "                <th>Nom</th>\n",
    "                <th>Example</th>\n",
    "            </tr>\n",
    "        </thead>\n",
    "        <tbody>\n",
    "            <tr>\n",
    "                <td>==</td>\n",
    "                <td>Egalité</td>\n",
    "                <td>x == y</td>\n",
    "            </tr>\n",
    "            <tr>\n",
    "                <td>></td>\n",
    "                <td>supériorité</td>\n",
    "                <td>x>y</td>\n",
    "            </tr>\n",
    "            <tr>\n",
    "                <td><</td>\n",
    "                <td>infériorité</td>\n",
    "                <td>x<y</td>\n",
    "            </tr>\n",
    "            <tr>\n",
    "                <td>!=</td>\n",
    "                <td>Inégalité</td>\n",
    "                <td>x!=</td>\n",
    "            </tr>\n",
    "            <tr>\n",
    "                <td><=</td>\n",
    "                <td>Infériorité ou égalité</td>\n",
    "                <td>x<=y</td>\n",
    "            </tr>\n",
    "            <tr>\n",
    "                <td>>=</td>\n",
    "                <td>supériorité ou égalité</td>\n",
    "                <td>x>=y</td>\n",
    "            </tr>\n",
    "        </tbody>\n",
    "    </table>\n",
    "</p>"
   ]
  },
  {
   "cell_type": "markdown",
   "metadata": {},
   "source": [
    "<em>Opérateurs logiques</em>"
   ]
  },
  {
   "cell_type": "markdown",
   "metadata": {},
   "source": [
    "<p>\n",
    "    <table>\n",
    "        <thead>\n",
    "            <tr>\n",
    "                <th>Opérateur</th>\n",
    "                <th>Description</th>\n",
    "                <th>Example</th>\n",
    "            </tr>\n",
    "        </thead>\n",
    "        <tbody>\n",
    "            <tr>\n",
    "                <td>and</td>\n",
    "                <td>Il est vrais si les deux assertions sont vrai</td>\n",
    "                <td>x > 5 and y < 8</td>\n",
    "            </tr>\n",
    "            <tr>\n",
    "                <td>or</td>\n",
    "                <td>Il est vrai si une des assertions vrai</td>\n",
    "                <td>x == 7 or y <= -1</td>\n",
    "            </tr>\n",
    "            <tr>\n",
    "                <td>not</td>\n",
    "                <td>négativation, il retourn le contraire d'une assertions</td>\n",
    "                <td>not(x==9 and y < 9)<y</td>\n",
    "            </tr>\n",
    "        </tbody>\n",
    "    </table>\n",
    "</p>"
   ]
  },
  {
   "cell_type": "markdown",
   "metadata": {},
   "source": [
    "<em>Opérateurs d'appartenances</em>"
   ]
  },
  {
   "cell_type": "markdown",
   "metadata": {},
   "source": [
    "<p>\n",
    "    <table>\n",
    "        <thead>\n",
    "            <tr>\n",
    "                <th>Opérateur</th>\n",
    "                <th>Description</th>\n",
    "                <th>Example</th>\n",
    "            </tr>\n",
    "        </thead>\n",
    "        <tbody>\n",
    "            <tr>\n",
    "                <td>in</td>\n",
    "                <td>Appartient à un ensemble de valeurs</td>\n",
    "                <td>x in [1,2,5,7,8,9]</td>\n",
    "            </tr>\n",
    "            <tr>\n",
    "                <td>not in</td>\n",
    "                <td>La non appartenance à un ensemble de valeur</td>\n",
    "                <td>x not in [\"maman\", \"papa\"]</td>\n",
    "            </tr>\n",
    "        </tbody>\n",
    "    </table>\n",
    "</p>"
   ]
  },
  {
   "cell_type": "markdown",
   "metadata": {},
   "source": [
    "<h3>Fonctions en Programmation</h3>\n",
    "<p>En programmation, une fonction est un bloc de code qui effectue une tâche spécifique ou calcule un résultat. Elle permet de regrouper des instructions pour les exécuter à plusieurs reprises, ce qui favorise la modularité, la réutilisabilité et la lisibilité du code.</p>\n",
    "<h2>Définition de Fonction</h2>\n",
    "<p>Une fonction est définie en spécifiant un nom, une liste d'arguments (paramètres), et un bloc de code à exécuter.</p>\n",
    "<h2>Appel de Fonction</h2>\n",
    "<p>Pour exécuter le code à l'intérieur d'une fonction, il faut l'appeler en utilisant son nom suivi des arguments nécessaires.</p>\n",
    "<h2>Paramètres et Arguments</h2>\n",
    "<p>Les paramètres sont les noms que vous donnez à l'intérieur de la définition de la fonction, tandis que les arguments sont les valeurs réelles fournies lors de l'appel de la fonction.</p>\n",
    "<h2>Valeur de Retour</h2>\n",
    "<p>Une fonction peut retourner un résultat calculé. Si aucune valeur de retour n'est spécifiée, la fonction renvoie souvent \"None\" (rien).</p>\n",
    "<h2>Réutilisation du Code</h2>\n",
    "<p>Les fonctions permettent d'éviter la duplication de code. Une fois une fonction définie, elle peut être appelée à plusieurs endroits dans le programme.</p>\n",
    "<h2>Modularité</h2>\n",
    "<p>Les fonctions favorisent la division d'un programme en morceaux plus petits, ce qui simplifie le processus de développement et de maintenance.</p>\n",
    "<h2>Portée des Variables</h2>\n",
    "<p>Les variables définies à l'intérieur d'une fonction (appelées variables locales) ne sont visibles que dans cette fonction, tandis que les variables définies en dehors d'une fonction (variables globales) sont accessibles partout dans le programme.</p>\n",
    "<h2>Fonctions Récursives</h2>\n",
    "<p>Une fonction peut s'appeler elle-même, ce qui est utile pour résoudre des problèmes récursifs.</p>"
   ]
  },
  {
   "cell_type": "code",
   "execution_count": null,
   "metadata": {},
   "outputs": [],
   "source": [
    "\"\"\" \n",
    "    def nom_fonction(parametres):\n",
    "        instruction\n",
    "        instruction\n",
    "        instruction\n",
    "        .....\n",
    "\"\"\"\n",
    "\n",
    "def multiplication(a, b):\n",
    "    \"\"\" \n",
    "        Cette fonction renvoie le produit de deux nombres\n",
    "    \"\"\"\n",
    "    c = a*b\n",
    "    return c"
   ]
  },
  {
   "cell_type": "code",
   "execution_count": null,
   "metadata": {},
   "outputs": [],
   "source": [
    "c = multiplication(2,4)\n",
    "print(c)\n",
    "d = multiplication(5, 8)\n",
    "print(d)"
   ]
  },
  {
   "cell_type": "markdown",
   "metadata": {},
   "source": [
    "<h3>Les packages</h3>"
   ]
  },
  {
   "cell_type": "markdown",
   "metadata": {},
   "source": [
    "# Qu'est-ce qu'un Package?\n",
    "\n",
    "Un package, dans le contexte de la programmation et du développement de logiciels, fait référence à un ensemble de fichiers et de ressources qui sont regroupés de manière organisée pour être distribués et utilisés ensemble. Un package peut contenir des bibliothèques, des modules, des fichiers de configuration, des fichiers de documentation, et d'autres éléments nécessaires à un certain logiciel ou à une bibliothèque.\n",
    "\n",
    "## Points Clés à Noter:\n",
    "\n",
    "- **Organisation des Ressources** : Un package rassemble des fichiers et des ressources liés à un logiciel ou à une fonctionnalité spécifique. Ces ressources peuvent inclure du code source, des fichiers de configuration, des images, des fichiers de documentation, etc.\n",
    "\n",
    "- **Facilité de Distribution** : Les packages permettent de distribuer des logiciels et des bibliothèques de manière organisée et structurée. Ils simplifient également le processus d'installation et de mise à jour pour les utilisateurs.\n",
    "\n",
    "- **Dépendances** : Les packages peuvent dépendre d'autres packages ou bibliothèques pour fonctionner correctement. Ces dépendances sont généralement spécifiées dans les fichiers de configuration du package.\n",
    "\n",
    "- **Gestion par des Outils de Gestion de Paquets** : De nombreux langages de programmation et systèmes d'exploitation disposent d'outils spécifiques pour gérer l'installation, la mise à jour et la suppression de packages. Par exemple, pip pour Python, npm pour JavaScript, apt pour Ubuntu, etc.\n",
    "\n",
    "- **Versionnage** : Les packages sont souvent associés à un système de versionnage. Cela permet de spécifier précisément quelle version d'un package est nécessaire pour un projet donné.\n",
    "\n",
    "- **Réutilisabilité du Code** : Les packages facilitent la réutilisation du code. Les développeurs peuvent intégrer des bibliothèques et des modules existants dans leurs propres projets, ce qui accélère le processus de développement.\n",
    "\n",
    "- **Isolation de l'Environnement** : Certains environnements de développement utilisent des systèmes de gestion de paquets pour isoler les dépendances de différents projets. Cela garantit que chaque projet utilise les versions spécifiques des packages requises.\n",
    "\n",
    "- **Exemples de Packages** : Dans le contexte de Python, un package serait un répertoire contenant un fichier `__init__.py` et d'autres modules Python. Dans d'autres langages, comme JavaScript, un package serait souvent un dossier contenant un fichier `package.json` qui décrit les dépendances du projet.\n",
    "\n",
    "En résumé, un package est une unité organisée de ressources liées à un logiciel ou à une fonctionnalité, conçue pour simplifier la distribution, l'installation et la gestion de dépendances dans le développement logiciel.\n"
   ]
  },
  {
   "cell_type": "code",
   "execution_count": null,
   "metadata": {},
   "outputs": [],
   "source": [
    "import math \n",
    "import numpy as np\n",
    "import matplotlib.pyplot as plt\n",
    "x = np.linspace(-10, 10, 100 )\n",
    "y = x**2\n",
    "plt.plot(x, y)"
   ]
  }
 ],
 "metadata": {
  "kernelspec": {
   "display_name": "dataDibe",
   "language": "python",
   "name": "python3"
  },
  "language_info": {
   "codemirror_mode": {
    "name": "ipython",
    "version": 3
   },
   "file_extension": ".py",
   "mimetype": "text/x-python",
   "name": "python",
   "nbconvert_exporter": "python",
   "pygments_lexer": "ipython3",
   "version": "3.9.13"
  },
  "orig_nbformat": 4
 },
 "nbformat": 4,
 "nbformat_minor": 2
}
