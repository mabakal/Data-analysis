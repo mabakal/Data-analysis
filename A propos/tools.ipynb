{
 "cells": [
  {
   "cell_type": "markdown",
   "metadata": {},
   "source": [
    "<h2>Mis en place de l'envirionnement pour l'analyse</h2>"
   ]
  },
  {
   "cell_type": "markdown",
   "metadata": {},
   "source": [
    "<p></p>"
   ]
  },
  {
   "cell_type": "markdown",
   "metadata": {},
   "source": [
    "<h4>Jupyter notebook</h4>"
   ]
  },
  {
   "cell_type": "markdown",
   "metadata": {},
   "source": [
    "<p>\n",
    "Jupyter Notebook est un outils qui permet de créer et de partager des documents interactifs contenant du code en direct, des équations, des visualisations et du texte explicatif. Il est très populaire parmi les scientifiques, les chercheurs et les data scientists pour sa capacité à créer des documents qui combinent du code exécutable avec des explications textuelles et des éléments visuels.\n",
    "</p>"
   ]
  },
  {
   "cell_type": "markdown",
   "metadata": {},
   "source": [
    "<em>Voici quelques caractéristiques notables de Jupyter Notebook :</em>"
   ]
  },
  {
   "cell_type": "markdown",
   "metadata": {},
   "source": [
    "<ul>\n",
    "    <li>\n",
    "        <h5>Polyvalence </h5>\n",
    "        <p>Il prend en charge de nombreux langages de programmation, dont Python, R, Julia, et bien d'autres.</p>\n",
    "    </li>\n",
    "    <li>\n",
    "        <h5>Exécution de Code en Temps Réel : </h5>\n",
    "        <p>Vous pouvez exécuter des cellules de code individuelles et voir les résultats immédiatement.</p>\n",
    "    </li>\n",
    "     <li>\n",
    "        <h5>Exécution de Code en Temps Réel : </h5>\n",
    "        <p>Vous pouvez exécuter des cellules de code individuelles et voir les résultats immédiatement.</p>\n",
    "    </li>\n",
    "     <li>\n",
    "        <h5>Support Multimédia </h5>\n",
    "        <p>Vous pouvez inclure des images, des graphiques, des vidéos et des liens dans vos documents.</p>\n",
    "    </li>\n",
    "     <li>\n",
    "        <h5>Édition et Formatage de Texte :</h5>\n",
    "        <p>Vous pouvez créer des titres, des listes, des tableaux, des formules mathématiques, et bien plus encore à l'aide de Markdown.</p>\n",
    "    </li>\n",
    "     <li>\n",
    "        <h5>Partage Facile :  </h5>\n",
    "        <p>Vous pouvez exporter vos notebooks au format PDF, HTML, ou d'autres formats pour les partager avec d'autres.</p>\n",
    "    </li>\n",
    "\n",
    "</ul>"
   ]
  },
  {
   "cell_type": "markdown",
   "metadata": {},
   "source": [
    "<h4>Téléchargement et installation</h4>"
   ]
  },
  {
   "cell_type": "markdown",
   "metadata": {},
   "source": [
    "<p>\n",
    "    <ul>\n",
    "        <li>\n",
    "         <em>1</em>\n",
    "         <p>\n",
    "            Ouvir votre cmd sur windows ou terminal sur votre Mac\n",
    "         </p>\n",
    "        </li>\n",
    "        <li>\n",
    "            <em>2</em>\n",
    "            <p>\n",
    "                Utilisez pip (le gestionnaire de paquets de Python) pour installer Jupyter Notebook en tapant la commande suivante et en appuyant sur Entrée : <em >pip install notebook</em>\n",
    "            </p>\n",
    "        </li>\n",
    "    </ul>\n",
    "</p>"
   ]
  },
  {
   "cell_type": "markdown",
   "metadata": {},
   "source": [
    "<p>Pour la lancer, toujours dans le même terminal, entrer : <em>jupyter notebook\n",
    "</em> et pour l'arrêter aller sur votre terminal, ou cmd et appuyer sur les touches <em> ctrl + c</em></p>"
   ]
  },
  {
   "cell_type": "markdown",
   "metadata": {},
   "source": [
    "### Ananconda"
   ]
  },
  {
   "cell_type": "markdown",
   "metadata": {},
   "source": []
  }
 ],
 "metadata": {
  "kernelspec": {
   "display_name": "dataDibe",
   "language": "python",
   "name": "python3"
  },
  "language_info": {
   "name": "python",
   "version": "3.9.13"
  },
  "orig_nbformat": 4
 },
 "nbformat": 4,
 "nbformat_minor": 2
}
